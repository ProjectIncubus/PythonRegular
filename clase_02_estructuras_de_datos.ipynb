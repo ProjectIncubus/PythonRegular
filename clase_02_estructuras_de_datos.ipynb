{
 "cells": [
  {
   "attachments": {},
   "cell_type": "markdown",
   "metadata": {},
   "source": [
    "## Estructuras de datos\n",
    "### Listas\n",
    "En Python, una lista es una colección ordenada y mutable de elementos. Puedes almacenar diferentes tipos de datos en una lista, como números, cadenas de texto e incluso otras listas."
   ]
  },
  {
   "cell_type": "code",
   "execution_count": 92,
   "metadata": {},
   "outputs": [
    {
     "name": "stdout",
     "output_type": "stream",
     "text": [
      "<class 'list'>\n"
     ]
    }
   ],
   "source": [
    "mi_lista = list() # Esta es una forma de definir una lista con su palabra reservada.\n",
    "otra_lista = [] # Esta es otra forma usando corchetes.\n",
    "\n",
    "print(type(mi_lista))"
   ]
  },
  {
   "cell_type": "code",
   "execution_count": 95,
   "metadata": {},
   "outputs": [
    {
     "name": "stdout",
     "output_type": "stream",
     "text": [
      "[1, 4.5, 5, 'Python', 'hola', True, False]\n",
      "7\n"
     ]
    }
   ],
   "source": [
    "# Al ser una estructura de datos, la lista admite todos los tipos de datos\n",
    "mi_lista = [1, 4.5, 5, 'Python', 'hola', True, False] # Los elementos de la lista se separan con comas.\n",
    "print(mi_lista)\n",
    "print(len(mi_lista)) # Len para saber la cantidad de elementos de la lista."
   ]
  },
  {
   "cell_type": "code",
   "execution_count": 96,
   "metadata": {},
   "outputs": [
    {
     "name": "stdout",
     "output_type": "stream",
     "text": [
      "1\n",
      "4.5\n",
      "5\n",
      "False\n",
      "True\n"
     ]
    }
   ],
   "source": [
    "# Acceder a un elemento de la lista\n",
    "# Los elementos de una lista se acceden por su índice\n",
    "print(mi_lista[0]) # Las listas en Python son de indice cero\n",
    "print(mi_lista[1]) \n",
    "print(mi_lista[2]) \n",
    "\n",
    "print(mi_lista[-1]) # Acceder al último elemento de la lista\n",
    "print(mi_lista[-2]) # Acceder al penúltimo elemento de la lista"
   ]
  },
  {
   "cell_type": "code",
   "execution_count": 105,
   "metadata": {},
   "outputs": [
    {
     "name": "stdout",
     "output_type": "stream",
     "text": [
      "Gus\n",
      "Lopez\n",
      "28\n",
      "['Python', 'C++', 'Matlab']\n"
     ]
    }
   ],
   "source": [
    "# Desempaquetado de lista. Funciona igual que desempaquetar una cadena de caracteres.\n",
    "otra_lista = ['Gus', 'Lopez', 28, ['Python', 'C++', 'Matlab']]\n",
    "\n",
    "nombre, apellido, edad, lenguajes = otra_lista\n",
    "\n",
    "print(nombre)\n",
    "print(apellido)\n",
    "print(edad)\n",
    "print(lenguajes)"
   ]
  },
  {
   "cell_type": "code",
   "execution_count": 106,
   "metadata": {},
   "outputs": [
    {
     "name": "stdout",
     "output_type": "stream",
     "text": [
      "['Gus', 'Lopez', 28, ['Python', 'C++', 'Matlab'], 'ProjectIncubus', 'Lopez']\n",
      "['Gus', 28, ['Python', 'C++', 'Matlab'], 'ProjectIncubus', 'Lopez']\n"
     ]
    }
   ],
   "source": [
    "# Con .append() añadimos el elemento indicado al final de la lista.\n",
    "otra_lista.append('ProjectIncubus') # Aniade al final de la lista el elemento indicado.\n",
    "otra_lista.append('Lopez')\n",
    "print(otra_lista)\n",
    "\n",
    "otra_lista.remove('Lopez') # Remove quita la primer ocurrencia dentro del argumento de .remove()\n",
    "print(otra_lista)"
   ]
  },
  {
   "cell_type": "code",
   "execution_count": 107,
   "metadata": {},
   "outputs": [
    {
     "name": "stdout",
     "output_type": "stream",
     "text": [
      "['Gus', 28, ['Python', 'C++', 'Matlab'], 'ProjectIncubus', 'Lopez']\n"
     ]
    }
   ],
   "source": [
    "# A veces, cuando trabajamos con alguna estructura de datos, podemos modificarla para siempre,\n",
    "# así que es bastante útil realizar una copia y mantener la original.\n",
    "copia_lista = otra_lista.copy()\n",
    "print(copia_lista)"
   ]
  },
  {
   "cell_type": "code",
   "execution_count": 108,
   "metadata": {},
   "outputs": [
    {
     "name": "stdout",
     "output_type": "stream",
     "text": [
      "ProjectIncubus\n"
     ]
    }
   ],
   "source": [
    "elemento_eliminado = copia_lista.pop(3) # Quita el elemento en el indice dentro de .pop()\n",
    "# Además de borrar el elemento, .pop() nos da la oportunidad de retornarlo, en caso de querer guardarlo.\n",
    "print(elemento_eliminado)"
   ]
  },
  {
   "cell_type": "code",
   "execution_count": 109,
   "metadata": {},
   "outputs": [
    {
     "name": "stdout",
     "output_type": "stream",
     "text": [
      "['Gus', 28, ['Python', 'C++', 'Matlab'], 'Lopez']\n"
     ]
    }
   ],
   "source": [
    "print(copia_lista)"
   ]
  },
  {
   "cell_type": "code",
   "execution_count": 25,
   "metadata": {},
   "outputs": [
    {
     "name": "stdout",
     "output_type": "stream",
     "text": [
      "['Gus', 28, 1.82, ['Python', 'C++', 'Matlab'], 'Lopez']\n"
     ]
    }
   ],
   "source": [
    "# Con .insert() añadimos en el índice específicado, el elemento especificado.\n",
    "copia_lista.insert(2, 1.82)\n",
    "print(copia_lista)"
   ]
  },
  {
   "cell_type": "code",
   "execution_count": 31,
   "metadata": {},
   "outputs": [
    {
     "name": "stdout",
     "output_type": "stream",
     "text": [
      "[1, 3]\n"
     ]
    }
   ],
   "source": [
    "del_list = [1, 2, 3]\n",
    "# Del borra todo lo que este indicado, PARA SIEMPREEE.\n",
    "del del_list[1]\n",
    "\n",
    "print(del_list)\n",
    "\n",
    "# del del_list\n",
    "# print(del_list)"
   ]
  },
  {
   "cell_type": "code",
   "execution_count": 32,
   "metadata": {},
   "outputs": [
    {
     "name": "stdout",
     "output_type": "stream",
     "text": [
      "[]\n"
     ]
    }
   ],
   "source": [
    "del_list.clear()\n",
    "\n",
    "print(del_list)"
   ]
  },
  {
   "cell_type": "code",
   "execution_count": 44,
   "metadata": {},
   "outputs": [
    {
     "name": "stdout",
     "output_type": "stream",
     "text": [
      "[1, 3, 6, 7, 12, 23]\n",
      "[23, 12, 7, 6, 3, 1]\n"
     ]
    }
   ],
   "source": [
    "num_list = [3, 6, 23, 7, 12, 1]\n",
    "alfa_list = ['a', 'b', 'c']\n",
    "\n",
    "# Con .sort() la ordenamos de manera ascendente.\n",
    "num_list.sort()\n",
    "print(num_list)\n",
    "\n",
    "num_list.sort(reverse=True) # Ordena decendente\n",
    "print(num_list)"
   ]
  },
  {
   "cell_type": "code",
   "execution_count": 45,
   "metadata": {},
   "outputs": [
    {
     "name": "stdout",
     "output_type": "stream",
     "text": [
      "[23, 12, 7, 6, 3, 1, 'a', 'b', 'c']\n"
     ]
    }
   ],
   "source": [
    "lista_concatenada = num_list + alfa_list\n",
    "print(lista_concatenada)"
   ]
  },
  {
   "cell_type": "code",
   "execution_count": 46,
   "metadata": {},
   "outputs": [
    {
     "name": "stdout",
     "output_type": "stream",
     "text": [
      "[1, 2, 3, 1, 2, 3, 1, 2, 3]\n"
     ]
    }
   ],
   "source": [
    "# La multiplicacion de listas no es como en algebra lineal, sino que\n",
    "# solo repite la lista una cantidad determinada de veces.\n",
    "# Para algebra lineal usar NumPy, que veremos en proximas clases.\n",
    "a = [1, 2, 3]\n",
    "b = a * 3\n",
    "\n",
    "print(b)"
   ]
  },
  {
   "attachments": {},
   "cell_type": "markdown",
   "metadata": {},
   "source": [
    "### Tuplas\n",
    "En Python, una tupla es una colección ordenada e inmutable de elementos. A diferencia de las listas, las tuplas no se pueden modificar una vez creadas, lo que significa que no puedes agregar, eliminar o modificar elementos individualmente."
   ]
  },
  {
   "cell_type": "code",
   "execution_count": 38,
   "metadata": {},
   "outputs": [
    {
     "name": "stdout",
     "output_type": "stream",
     "text": [
      "<class 'tuple'>\n"
     ]
    }
   ],
   "source": [
    "mi_tupla = tuple() # Se pueden definir con su palabra reservada.\n",
    "otra_tupla = () # O con paréntesis.\n",
    "\n",
    "print(type(mi_tupla))"
   ]
  },
  {
   "cell_type": "code",
   "execution_count": 39,
   "metadata": {},
   "outputs": [],
   "source": [
    "mi_tupla = (28, 1.82, 'Gus', 'Lopez')\n",
    "otra_tupla = (15, 24, 10)"
   ]
  },
  {
   "cell_type": "code",
   "execution_count": 42,
   "metadata": {},
   "outputs": [
    {
     "name": "stdout",
     "output_type": "stream",
     "text": [
      "28\n",
      "1.82\n",
      "Gus\n",
      "Lopez\n",
      "Gus\n"
     ]
    }
   ],
   "source": [
    "# Accedemos a los elementos de la tupla como con las listas, con corchetes y con el índice.\n",
    "# Recordemos que Python usa el índice cero como primer elemento.\n",
    "print(mi_tupla[0])\n",
    "print(mi_tupla[1])\n",
    "print(mi_tupla[2])\n",
    "\n",
    "print(mi_tupla[-1])\n",
    "print(mi_tupla[-2])"
   ]
  },
  {
   "cell_type": "code",
   "execution_count": 43,
   "metadata": {},
   "outputs": [
    {
     "name": "stdout",
     "output_type": "stream",
     "text": [
      "(28, 1.82, 'Gus', 'Lopez', 15, 24, 10)\n"
     ]
    }
   ],
   "source": [
    "tupla_concatenada = mi_tupla + otra_tupla # Podemos juntar tuplas, es decir, concatenarlas.\n",
    "print(tupla_concatenada)"
   ]
  },
  {
   "cell_type": "code",
   "execution_count": 48,
   "metadata": {},
   "outputs": [],
   "source": [
    "#mi_tupla[0] = 30 # 'tuple' object does not support item assignment"
   ]
  },
  {
   "attachments": {},
   "cell_type": "markdown",
   "metadata": {},
   "source": [
    "### Sets"
   ]
  },
  {
   "cell_type": "code",
   "execution_count": 110,
   "metadata": {},
   "outputs": [
    {
     "name": "stdout",
     "output_type": "stream",
     "text": [
      "<class 'set'>\n",
      "<class 'dict'>\n"
     ]
    }
   ],
   "source": [
    "mi_set = set() # Se pueden definir con su palabra reservada.\n",
    "otro_set = {} # También con llaves.\n",
    "\n",
    "print(type(mi_set))\n",
    "print(type(otro_set)) # ¿Por qué aquí me dice que el set que definimos con llaves\n",
    "                      # es un diccionario?\n",
    "\n",
    "# Resulta que, como veremos adelante, las llaves también nos sirven para\n",
    "# definir diccionarios."
   ]
  },
  {
   "cell_type": "code",
   "execution_count": 57,
   "metadata": {},
   "outputs": [
    {
     "name": "stdout",
     "output_type": "stream",
     "text": [
      "<class 'set'>\n",
      "{'Gus', 'Lopez', 28}\n",
      "3\n"
     ]
    }
   ],
   "source": [
    "# Si nosotros llenamos lo que antes era un diccionario de la siguiente forma,\n",
    "# Python entenderá que se trata de un set, no de un diccionario, ya que el\n",
    "# diccionario tiene otro tipo de sintaxis.\n",
    "otro_set = {'Gus', 'Lopez', 28} # Set es una estructura no ordenada y no admite repeticiones.\n",
    "print(type(otro_set))\n",
    "\n",
    "print(otro_set)\n",
    "\n",
    "print(len(otro_set))"
   ]
  },
  {
   "cell_type": "code",
   "execution_count": 60,
   "metadata": {},
   "outputs": [
    {
     "name": "stdout",
     "output_type": "stream",
     "text": [
      "{'Gus', 'ProjectIncubus', 'Lopez', 28}\n"
     ]
    }
   ],
   "source": [
    "otro_set.add('ProjectIncubus')\n",
    "\n",
    "print(otro_set)"
   ]
  },
  {
   "cell_type": "code",
   "execution_count": 62,
   "metadata": {},
   "outputs": [
    {
     "name": "stdout",
     "output_type": "stream",
     "text": [
      "True\n",
      "False\n"
     ]
    }
   ],
   "source": [
    "print('Gus' in otro_set)\n",
    "print('Python' in otro_set) # Busquedas en set.\n",
    "# Lo podemos entender como >> ¿está \"Gus\" EN otro_set?\n",
    "# Como la respuesta es una afirmación o una negación, nos devuelve un booleano.\n",
    "# Esa busqueda solo va a estar 1 vez, ya que el set no admite repeticiones."
   ]
  },
  {
   "cell_type": "code",
   "execution_count": 63,
   "metadata": {},
   "outputs": [
    {
     "name": "stdout",
     "output_type": "stream",
     "text": [
      "{'Gus', 'Lopez', 28}\n"
     ]
    }
   ],
   "source": [
    "otro_set.remove('ProjectIncubus')\n",
    "print(otro_set)"
   ]
  },
  {
   "cell_type": "code",
   "execution_count": 64,
   "metadata": {},
   "outputs": [
    {
     "name": "stdout",
     "output_type": "stream",
     "text": [
      "set()\n"
     ]
    }
   ],
   "source": [
    "set_1 = {'hola', 1, 2, 3}\n",
    "set_1.clear()\n",
    "\n",
    "print(set_1)"
   ]
  },
  {
   "attachments": {},
   "cell_type": "markdown",
   "metadata": {},
   "source": [
    "### Diccionarios\n",
    "En Python, un diccionario es una estructura de datos que almacena pares de clave:valor. A diferencia de las listas y las tuplas, los diccionarios no están ordenados y se accede a los elementos mediante claves en lugar de índices. Cada clave en un diccionario debe ser única y se utiliza para buscar y acceder a su valor correspondiente."
   ]
  },
  {
   "cell_type": "code",
   "execution_count": 65,
   "metadata": {},
   "outputs": [
    {
     "name": "stdout",
     "output_type": "stream",
     "text": [
      "<class 'dict'>\n"
     ]
    }
   ],
   "source": [
    "# Los diccionarios almacenan datos de tipo clave:valor\n",
    "\n",
    "mi_dict = dict() # Se pueden definir con su palabra reservada.\n",
    "otro_dict = {} # O con llaves.\n",
    "\n",
    "print(type(mi_dict))"
   ]
  },
  {
   "cell_type": "code",
   "execution_count": 86,
   "metadata": {},
   "outputs": [
    {
     "name": "stdout",
     "output_type": "stream",
     "text": [
      "{'nombre': ('Gus', 'Fer', 'Ari'), 'apellido': 'Lopez', 'edad': 28, 'skills': ['Python', 'C++', 'Matlab', 'C#']}\n"
     ]
    }
   ],
   "source": [
    "# Aquí podemos ver cómo es la estructura de un diccionario.\n",
    "# Recomiendo esta sintaxis para más claridad, aunque puede ser\n",
    "# todo en horizontal.\n",
    "mi_dict = {\n",
    "    'nombre':('Gus', 'Fer', 'Ari'),\n",
    "    'apellido':'Lopez',\n",
    "    'edad':28,\n",
    "    'skills':['Python', 'C++', 'Matlab', 'C#']\n",
    "}\n",
    "\n",
    "print(mi_dict)"
   ]
  },
  {
   "cell_type": "code",
   "execution_count": 67,
   "metadata": {},
   "outputs": [
    {
     "name": "stdout",
     "output_type": "stream",
     "text": [
      "4\n"
     ]
    }
   ],
   "source": [
    "print(len(mi_dict)) # La longitud del diccionario es el número de Keys (o claves)."
   ]
  },
  {
   "cell_type": "code",
   "execution_count": 87,
   "metadata": {},
   "outputs": [
    {
     "name": "stdout",
     "output_type": "stream",
     "text": [
      "('Gus', 'Fer', 'Ari')\n",
      "Lopez\n",
      "['Python', 'C++', 'Matlab', 'C#']\n"
     ]
    }
   ],
   "source": [
    "# Así accedemos al valor de cada Key.\n",
    "print(mi_dict['nombre'])\n",
    "print(mi_dict['apellido'])\n",
    "print(mi_dict['skills'])\n",
    "\n",
    "# print(mi_dict['alias']) # Manda error porque no hay una key que se llame 'alias'"
   ]
  },
  {
   "cell_type": "code",
   "execution_count": 88,
   "metadata": {},
   "outputs": [
    {
     "name": "stdout",
     "output_type": "stream",
     "text": [
      "('Gus', 'Fer', 'Ari')\n",
      "Lopez\n",
      "None\n"
     ]
    }
   ],
   "source": [
    "# Esta es otra forma de acceder al valor de una Key, la diferencia es que\n",
    "# si la Key no existe, nos regresa un \"None\".\n",
    "print(mi_dict.get('nombre')) # Con get nos aseguramos de obtener el valor de la entrada.\n",
    "print(mi_dict.get('apellido'))\n",
    "\n",
    "print(mi_dict.get('alias')) # Si no existe dicha entrada, regresa un None."
   ]
  },
  {
   "cell_type": "code",
   "execution_count": 89,
   "metadata": {},
   "outputs": [
    {
     "name": "stdout",
     "output_type": "stream",
     "text": [
      "{'nombre': ('Gus', 'Fer', 'Ari'), 'apellido': 'Lopez', 'edad': 28, 'skills': ['Python', 'C++', 'Matlab', 'C#'], 'alias': 'ProjectIncubus'}\n",
      "{'nombre': 'Gus', 'apellido': 'Lopez', 'edad': 28, 'skills': ['Python', 'C++', 'Matlab', 'C#'], 'alias': 'ProjectIncubus'}\n"
     ]
    }
   ],
   "source": [
    "# Si la Key no existe, esta es la forma de crearla y darle un valor.\n",
    "mi_dict['alias'] = 'ProjectIncubus' # Crea la Key \"alias\" y le da el valor \"ProjectIncubus\"\n",
    "print(mi_dict)\n",
    "\n",
    "mi_dict['nombre'] = 'Gus' # Si ya existe la entrada, la puedes reescribir, es decir, asignarle otro valor.\n",
    "print(mi_dict)"
   ]
  },
  {
   "cell_type": "code",
   "execution_count": 90,
   "metadata": {},
   "outputs": [
    {
     "name": "stdout",
     "output_type": "stream",
     "text": [
      "dict_items([('nombre', 'Gus'), ('apellido', 'Lopez'), ('edad', 28), ('skills', ['Python', 'C++', 'Matlab', 'C#']), ('alias', 'ProjectIncubus')])\n",
      "dict_keys(['nombre', 'apellido', 'edad', 'skills', 'alias'])\n",
      "dict_values(['Gus', 'Lopez', 28, ['Python', 'C++', 'Matlab', 'C#'], 'ProjectIncubus'])\n"
     ]
    }
   ],
   "source": [
    "# Algunos métodos interesantes con los diccionarios.\n",
    "\n",
    "print(mi_dict.items()) # Regresa todos los items en forma de una lista de tuplas. Aunque no es una lista de tuplas.\n",
    "print(mi_dict.keys()) # Regresa todas las Keys del diccionario.\n",
    "print(mi_dict.values()) # Regresa los valores de todas las Keys del diccionario."
   ]
  },
  {
   "cell_type": "code",
   "execution_count": 91,
   "metadata": {},
   "outputs": [
    {
     "name": "stdout",
     "output_type": "stream",
     "text": [
      "{'nombre': None, 'apellido': None, 'edad': None}\n"
     ]
    }
   ],
   "source": [
    "# También podemos crear un nuevo diccionario con las Keys de otro ya existente.\n",
    "# Los valores de las llaves en este nuevo diccionario son None, pues aún no\n",
    "# se han asignado valores.\n",
    "new_dict = mi_dict.fromkeys(('nombre', 'apellido', 'edad'))\n",
    "\n",
    "print(new_dict)"
   ]
  }
 ],
 "metadata": {
  "kernelspec": {
   "display_name": "Python 3",
   "language": "python",
   "name": "python3"
  },
  "language_info": {
   "codemirror_mode": {
    "name": "ipython",
    "version": 3
   },
   "file_extension": ".py",
   "mimetype": "text/x-python",
   "name": "python",
   "nbconvert_exporter": "python",
   "pygments_lexer": "ipython3",
   "version": "3.11.1"
  },
  "orig_nbformat": 4
 },
 "nbformat": 4,
 "nbformat_minor": 2
}
