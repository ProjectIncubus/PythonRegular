{
 "cells": [
  {
   "cell_type": "markdown",
   "metadata": {},
   "source": [
    "## Clases: Ejercicios\n",
    "### Ejercicio: Rectángulo.\n",
    "Crea una clase de nombre Rectángulo con un argumento para la base y otro para la altura. No olvides poner el self.\n",
    "La clase tendrá dos métodos:\n",
    "* El método calcular_area() que regresa el valor del área.\n",
    "* El método calcular_perimetro() que regresa el valor del perímetro."
   ]
  },
  {
   "cell_type": "code",
   "execution_count": 2,
   "metadata": {},
   "outputs": [],
   "source": [
    "class Rectangulo: # Definimos el nombre de la clase.\n",
    "    # Creamos el constructor de clase. Es aquí donde se definen los atributos.\n",
    "    def __init__(self, b, h):\n",
    "        self.base = b\n",
    "        self.altura = h\n",
    "\n",
    "    # Creamos el método calcular_area()\n",
    "    def calcular_area(self):\n",
    "        return self.base * self.altura\n",
    "    \n",
    "    # Creamos el método calcular_perimetro()\n",
    "    def calcular_perimetro(self):\n",
    "        return 2 * (self.base + self.altura)"
   ]
  },
  {
   "cell_type": "code",
   "execution_count": 3,
   "metadata": {},
   "outputs": [],
   "source": [
    "# Aquí estamos creando dos instancias (dos objetos, dos variables) con la clase Rectangulo que\n",
    "# creamos arriba.\n",
    "rectangulo_1 = Rectangulo(10, 3) # Esta instancia tiene de b = 10 y h = 3\n",
    "rectangulo_2 = Rectangulo(5, 10) # Esta instancia tiene de b = 5 y h = 10"
   ]
  },
  {
   "cell_type": "code",
   "execution_count": 4,
   "metadata": {},
   "outputs": [
    {
     "name": "stdout",
     "output_type": "stream",
     "text": [
      "10\n",
      "3\n",
      "5\n",
      "10\n",
      "30\n",
      "26\n",
      "50\n",
      "30\n"
     ]
    }
   ],
   "source": [
    "# Ahora podemos acceder a los atributos de cada instancia.\n",
    "# Podemos diferenciar los atributos de los métodos notando que los atributos no\n",
    "# tienen paréntesis y los métodos sí.\n",
    "print(rectangulo_1.base)\n",
    "print(rectangulo_1.altura)\n",
    "\n",
    "print(rectangulo_2.base)\n",
    "print(rectangulo_2.altura)\n",
    "\n",
    "# Ahora usamos los métodos que creamos para cada una de las instancias.\n",
    "print(rectangulo_1.calcular_area())\n",
    "print(rectangulo_1.calcular_perimetro())\n",
    "\n",
    "print(rectangulo_2.calcular_area())\n",
    "print(rectangulo_2.calcular_perimetro())"
   ]
  },
  {
   "cell_type": "markdown",
   "metadata": {},
   "source": [
    "### Ejercicio: Empleado\n",
    "Crearemos una clase llamada Empleado, cuyos argumentos serán el nombre del empleado y su salario diario. También crearemos dos métodos para esta clase:\n",
    "* El método info() nos devolverá el nombre del usuario y su salario diario\n",
    "* El método aguinaldo() nos devolverá el cálculo del aguinaldo (15 veces el salario diario)"
   ]
  },
  {
   "cell_type": "code",
   "execution_count": 5,
   "metadata": {},
   "outputs": [],
   "source": [
    "class Empleado: # Definimos el nombre de la clase.\n",
    "    # Creamos el constructor de clase. No olvidemos el self.\n",
    "    def __init__(self, nombre, salario_diario):\n",
    "        self.nombre = nombre\n",
    "        self.salario_diario = salario_diario\n",
    "\n",
    "    # Creamos el metodo info()\n",
    "    def info(self):\n",
    "        print('Nombre:', self.nombre)\n",
    "        print('Salario diario:', self.salario_diario)\n",
    "\n",
    "    # Creamos el método aguinaldo()\n",
    "    def aguinaldo(self):\n",
    "        print('Aguinaldo:', self.salario_diario * 15)"
   ]
  },
  {
   "cell_type": "code",
   "execution_count": 6,
   "metadata": {},
   "outputs": [
    {
     "name": "stdout",
     "output_type": "stream",
     "text": [
      "Roberto Jimenez\n",
      "450\n",
      "Nombre: Roberto Jimenez\n",
      "Salario diario: 450\n",
      "Aguinaldo: 6750\n"
     ]
    }
   ],
   "source": [
    "# Creamos una instancia con nuestra clase Empleado.\n",
    "empleado_1 = Empleado('Roberto Jimenez', 450)\n",
    "\n",
    "# Podemos acceder a los atributos de la instancia ahora.\n",
    "print(empleado_1.nombre)\n",
    "print(empleado_1.salario_diario)\n",
    "\n",
    "# Y a los métodos que creamos, para esa instancia en específico.\n",
    "empleado_1.info()\n",
    "empleado_1.aguinaldo()"
   ]
  },
  {
   "cell_type": "code",
   "execution_count": 7,
   "metadata": {},
   "outputs": [
    {
     "name": "stdout",
     "output_type": "stream",
     "text": [
      "Sofia Ramirez\n",
      "550\n",
      "Nombre: Sofia Ramirez\n",
      "Salario diario: 550\n",
      "Aguinaldo: 8250\n"
     ]
    }
   ],
   "source": [
    "# Aquí estamos creando otra instancia con otros valores.\n",
    "empleado_2 = Empleado('Sofia Ramirez', 550)\n",
    "print(empleado_2.nombre)\n",
    "print(empleado_2.salario_diario)\n",
    "\n",
    "empleado_2.info()\n",
    "empleado_2.aguinaldo()"
   ]
  },
  {
   "cell_type": "markdown",
   "metadata": {},
   "source": [
    "### Ejercicio: Gestión de tienda\n",
    "Crearemos una clase llamada Producto para poder crear diferentes instancias para diferentes productos que tenemos en el inventario de una tienda. Cada producto tendrá como atributos:\n",
    "* Un código\n",
    "* Un nombre\n",
    "* Un precio\n",
    "* Una cantidad en inventario\n",
    "Como métodos tendremos:\n",
    "* El método info() que nos devolverá con formato toda la información del producto instanciado\n",
    "* El método vender() que deberá pedir como argumento la cantidad de artículos a vender. Hay que notar que en este método debemos crear una lógica que se encargue de definir si hay suficientes artículos en el inventario para vender. Si la cantidad de artículos que se quieren vender sobrepasa el inventario, debemos mostrarle al usuario que no se puede realizar la venta. Si la venta se puede realizar, debemos actualizar el valor en el inventario restando la cantidad de artículos vendidos."
   ]
  },
  {
   "cell_type": "code",
   "execution_count": 8,
   "metadata": {},
   "outputs": [],
   "source": [
    "class Producto: # Definimos la clase.\n",
    "    # Creamos el constructor de clase. No olvidar el self.\n",
    "    def __init__(self, code, name, price, quantity):\n",
    "        self.codigo = code\n",
    "        self.nombre = name\n",
    "        self.precio = price\n",
    "        self.cantidad = quantity\n",
    "\n",
    "    # Comenzamos con el método info()\n",
    "    # No lo mencioné anteriormente, pero si los métodos no piden argumentos, aún así deben llevar\n",
    "    # el self. Recordemos que el self es una forma de indicarle a Python que estamos haciendo\n",
    "    # referencia a la instancia creada (al objeto, variable, que instanciamos con la clase).\n",
    "    def info(self):\n",
    "        # El método info() imprime con formato los atributos.\n",
    "        print('Codigo:', self.codigo)\n",
    "        print('Producto:', self.nombre)\n",
    "        print('Precio: $', self.precio)\n",
    "        print('Cantidad disponible:', self.cantidad)\n",
    "\n",
    "    # Ahora creamos el metodo vender()\n",
    "    # Notemos que este método sí pide un argumento, entonces, además del self, debemos indicar\n",
    "    # cómo llamaremos a este argumento.\n",
    "    def vender(self, cantidad_a_vender):\n",
    "        # Dentro del método creamos la lógica.\n",
    "        if cantidad_a_vender <= self.cantidad: # Si la cantidad a vender es menor o igual a la\n",
    "            # cantidad en el inventario...\n",
    "            self.cantidad = self.cantidad - cantidad_a_vender # Actualizamos el inventario\n",
    "            # restándole la cantidad a vender.\n",
    "            # Aquí podemos usar la notación \"-=\" también.\n",
    "            print('Se han vendido {} unidades de {}.'.format(cantidad_a_vender, self.nombre))\n",
    "        else: # Si no hay suficiente cantidad en el inventario decirle al usuario.\n",
    "            print('No hay suficiente stock de {}.'.format(self.nombre))"
   ]
  },
  {
   "cell_type": "code",
   "execution_count": 9,
   "metadata": {},
   "outputs": [
    {
     "name": "stdout",
     "output_type": "stream",
     "text": [
      "1234\n",
      "Ruffles Queso\n",
      "Codigo: 1234\n",
      "Producto: Ruffles Queso\n",
      "Precio: $ 15\n",
      "Cantidad disponible: 10\n"
     ]
    }
   ],
   "source": [
    "# Creamos una instancia.\n",
    "papas = Producto(1234, 'Ruffles Queso', 15, 10)\n",
    "\n",
    "# Podemos acceder a sus atributos.\n",
    "print(papas.codigo)\n",
    "print(papas.nombre)\n",
    "\n",
    "# Usamos el método info()\n",
    "papas.info()"
   ]
  },
  {
   "cell_type": "code",
   "execution_count": 10,
   "metadata": {},
   "outputs": [
    {
     "name": "stdout",
     "output_type": "stream",
     "text": [
      "No hay suficiente stock de Ruffles Queso.\n",
      "Codigo: 1234\n",
      "Producto: Ruffles Queso\n",
      "Precio: $ 15\n",
      "Cantidad disponible: 10\n"
     ]
    }
   ],
   "source": [
    "# Vendemos 15 unidades con el método vender() indicando como argumento las unidades a vender.\n",
    "papas.vender(15)\n",
    "# Como solo tenemos 10 unidades en el inventario se indicaque no hay suficiente stock de Ruffles Queso.\n",
    "\n",
    "# Si consultamos la información con el método info() veremos que no cambió el stock porque no se\n",
    "# realizó la venta.\n",
    "papas.info()"
   ]
  },
  {
   "cell_type": "code",
   "execution_count": 11,
   "metadata": {},
   "outputs": [
    {
     "name": "stdout",
     "output_type": "stream",
     "text": [
      "Se han vendido 8 unidades de Ruffles Queso.\n"
     ]
    }
   ],
   "source": [
    "# En cambio si vendemos 8 unidades, se nos despliega que hemos vendido 8 unidades de\n",
    "# Ruffles Queso.\n",
    "papas.vender(8)"
   ]
  },
  {
   "cell_type": "code",
   "execution_count": 12,
   "metadata": {},
   "outputs": [
    {
     "name": "stdout",
     "output_type": "stream",
     "text": [
      "Codigo: 1234\n",
      "Producto: Ruffles Queso\n",
      "Precio: $ 15\n",
      "Cantidad disponible: 2\n"
     ]
    }
   ],
   "source": [
    "# Si consultamos la info de nuevo, veremos que se actualiza la cantidad disponible.\n",
    "papas.info()"
   ]
  },
  {
   "cell_type": "code",
   "execution_count": 13,
   "metadata": {},
   "outputs": [
    {
     "name": "stdout",
     "output_type": "stream",
     "text": [
      "Se han vendido 2 unidades de Ruffles Queso.\n",
      "Codigo: 1234\n",
      "Producto: Ruffles Queso\n",
      "Precio: $ 15\n",
      "Cantidad disponible: 0\n"
     ]
    }
   ],
   "source": [
    "# Aquí seguimos jugando con el código.\n",
    "papas.vender(2)\n",
    "papas.info()"
   ]
  }
 ],
 "metadata": {
  "kernelspec": {
   "display_name": "Python 3",
   "language": "python",
   "name": "python3"
  },
  "language_info": {
   "codemirror_mode": {
    "name": "ipython",
    "version": 3
   },
   "file_extension": ".py",
   "mimetype": "text/x-python",
   "name": "python",
   "nbconvert_exporter": "python",
   "pygments_lexer": "ipython3",
   "version": "3.11.1"
  },
  "orig_nbformat": 4
 },
 "nbformat": 4,
 "nbformat_minor": 2
}
