{
 "cells": [
  {
   "attachments": {},
   "cell_type": "markdown",
   "metadata": {},
   "source": [
    "### Introduccion a Python\n",
    "Esta es la primer clase de Python."
   ]
  },
  {
   "cell_type": "code",
   "execution_count": 2,
   "metadata": {},
   "outputs": [
    {
     "name": "stdout",
     "output_type": "stream",
     "text": [
      "Hola, Python\n",
      "Hola, Python\n"
     ]
    }
   ],
   "source": [
    "print('Hola, Python')\n",
    "print(\"Hola, Python\")"
   ]
  },
  {
   "cell_type": "code",
   "execution_count": 4,
   "metadata": {},
   "outputs": [
    {
     "name": "stdout",
     "output_type": "stream",
     "text": [
      "<class 'str'>\n"
     ]
    }
   ],
   "source": [
    "print(type('Hola, Python'))"
   ]
  },
  {
   "attachments": {},
   "cell_type": "markdown",
   "metadata": {},
   "source": [
    "### Variables"
   ]
  },
  {
   "cell_type": "code",
   "execution_count": 6,
   "metadata": {},
   "outputs": [
    {
     "name": "stdout",
     "output_type": "stream",
     "text": [
      "Mi variable string\n",
      "5\n"
     ]
    }
   ],
   "source": [
    "variable = 'Mi variable string'\n",
    "print(variable)\n",
    "variable = 5\n",
    "print(variable)"
   ]
  },
  {
   "attachments": {},
   "cell_type": "markdown",
   "metadata": {},
   "source": [
    "### Tipos de variables"
   ]
  },
  {
   "cell_type": "code",
   "execution_count": 7,
   "metadata": {},
   "outputs": [
    {
     "name": "stdout",
     "output_type": "stream",
     "text": [
      "<class 'int'>\n"
     ]
    }
   ],
   "source": [
    "# Variables de tipo Entero\n",
    "var_entera = 10\n",
    "print(type(var_entera))"
   ]
  },
  {
   "cell_type": "code",
   "execution_count": 8,
   "metadata": {},
   "outputs": [
    {
     "name": "stdout",
     "output_type": "stream",
     "text": [
      "<class 'float'>\n"
     ]
    }
   ],
   "source": [
    "# Variables de tipo flotante\n",
    "var_flotante = 4.5\n",
    "print(type(var_flotante))"
   ]
  },
  {
   "cell_type": "code",
   "execution_count": 10,
   "metadata": {},
   "outputs": [
    {
     "name": "stdout",
     "output_type": "stream",
     "text": [
      "<class 'bool'>\n",
      "<class 'bool'>\n"
     ]
    }
   ],
   "source": [
    "# Variables booleanas\n",
    "var_booleana = True\n",
    "print(type(var_booleana))\n",
    "var_booleana = False\n",
    "print(type(var_booleana))"
   ]
  },
  {
   "cell_type": "code",
   "execution_count": 12,
   "metadata": {},
   "outputs": [
    {
     "name": "stdout",
     "output_type": "stream",
     "text": [
      "10 20 30\n",
      "100 90 80\n"
     ]
    }
   ],
   "source": [
    "# Asignacion de variables\n",
    "x = 10\n",
    "y = 20\n",
    "z = 30\n",
    "\n",
    "a, b, c = 100, 90, 80\n",
    "\n",
    "print(x, y, z)\n",
    "print(a, b, c)"
   ]
  },
  {
   "cell_type": "code",
   "execution_count": 14,
   "metadata": {},
   "outputs": [
    {
     "name": "stdout",
     "output_type": "stream",
     "text": [
      "Tengo  28 anios.\n"
     ]
    }
   ],
   "source": [
    "mi_edad = 28\n",
    "\n",
    "print('Tengo', mi_edad, 'anios.')"
   ]
  },
  {
   "cell_type": "code",
   "execution_count": 16,
   "metadata": {},
   "outputs": [
    {
     "name": "stdout",
     "output_type": "stream",
     "text": [
      "Mi nombre es Gus Lopez y tengo 19 anios.\n"
     ]
    }
   ],
   "source": [
    "nombre = 'Gus Lopez'\n",
    "edad = 19\n",
    "\n",
    "print('Mi nombre es', nombre, 'y tengo', edad, 'anios.')"
   ]
  },
  {
   "cell_type": "code",
   "execution_count": 17,
   "metadata": {},
   "outputs": [
    {
     "name": "stdout",
     "output_type": "stream",
     "text": [
      "Mi nombre es Gus Lopez y tengo 28 anios.\n"
     ]
    }
   ],
   "source": [
    "nombre_usuario = input('Ingresa tu nombre:')\n",
    "edad_usuario = input('Ingresa tu edad:')\n",
    "\n",
    "print('Mi nombre es', nombre_usuario, 'y tengo', edad_usuario, 'anios.')"
   ]
  },
  {
   "attachments": {},
   "cell_type": "markdown",
   "metadata": {},
   "source": [
    "### Operadores"
   ]
  },
  {
   "cell_type": "code",
   "execution_count": 29,
   "metadata": {},
   "outputs": [
    {
     "name": "stdout",
     "output_type": "stream",
     "text": [
      "3\n",
      "-1\n",
      "12\n",
      "3.3333333333333335\n",
      "3\n",
      "1\n",
      "100\n",
      "1000\n",
      "5.0\n",
      "3.0\n"
     ]
    }
   ],
   "source": [
    "# Operadores aritmeticos\n",
    "\n",
    "print(1 + 2)\n",
    "print(1 - 2)\n",
    "print(6 * 2)\n",
    "print(10 / 3)\n",
    "print(10 // 3)\n",
    "print(10 % 3)\n",
    "print(10 ** 2)\n",
    "print(10 ** 3)\n",
    "print(25 ** (1 / 2))\n",
    "print(27 ** (1 / 3))"
   ]
  },
  {
   "cell_type": "code",
   "execution_count": 37,
   "metadata": {},
   "outputs": [
    {
     "name": "stdout",
     "output_type": "stream",
     "text": [
      "Hola Python\n",
      "Hola 5\n",
      "Hola Hola Hola \n"
     ]
    }
   ],
   "source": [
    "# Operaciones con strings\n",
    "\n",
    "print('Hola ' + 'Python')\n",
    "print('Hola ' + str(5))\n",
    "print('Hola ' * 3)"
   ]
  },
  {
   "cell_type": "code",
   "execution_count": 46,
   "metadata": {},
   "outputs": [
    {
     "name": "stdout",
     "output_type": "stream",
     "text": [
      "<class 'bool'>\n",
      "False\n",
      "True\n",
      "False\n",
      "True\n",
      "True\n",
      "False\n",
      "True\n"
     ]
    }
   ],
   "source": [
    "# Operadores comparativos\n",
    "\n",
    "print(type(3 < 4))\n",
    "\n",
    "print(3 > 4)\n",
    "print(3 < 4)\n",
    "print(3 >= 4)\n",
    "print(3 <= 4)\n",
    "print(100 == 100)\n",
    "print(3 == 4)\n",
    "print(100 != 99) # ! ="
   ]
  }
 ],
 "metadata": {
  "kernelspec": {
   "display_name": "Python 3",
   "language": "python",
   "name": "python3"
  },
  "language_info": {
   "codemirror_mode": {
    "name": "ipython",
    "version": 3
   },
   "file_extension": ".py",
   "mimetype": "text/x-python",
   "name": "python",
   "nbconvert_exporter": "python",
   "pygments_lexer": "ipython3",
   "version": "3.11.1"
  },
  "orig_nbformat": 4
 },
 "nbformat": 4,
 "nbformat_minor": 2
}
