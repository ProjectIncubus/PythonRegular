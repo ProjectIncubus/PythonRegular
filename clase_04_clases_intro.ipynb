{
 "cells": [
  {
   "attachments": {},
   "cell_type": "markdown",
   "metadata": {},
   "source": [
    "### Clases\n",
    "En Python, una clase es una estructura fundamental que permite definir un nuevo tipo de objeto. Una clase actúa como una plantilla o un plano que describe las propiedades (atributos) y los comportamientos (métodos) que tendrán los objetos creados a partir de ella.\n",
    "\n",
    "En términos más simples, una clase es como un molde para crear objetos. Define las características y las acciones que los objetos pueden tener. Los atributos representan las características o datos que tiene un objeto, mientras que los métodos son las funciones asociadas a ese objeto, que pueden realizar acciones o manipular los atributos.\n",
    "\n",
    "Al definir una clase, se especifican los atributos y los métodos que formarán parte de los objetos creados a partir de ella. Una vez que se ha definido una clase, se pueden crear múltiples instancias de esa clase, que son objetos individuales con sus propios valores de atributos y capacidades de ejecución de métodos.\n",
    "\n",
    "En resumen, una clase en Python proporciona una forma de encapsular datos y funcionalidades relacionadas en un único objeto. Permite organizar y estructurar el código de manera más modular y orientada a objetos, lo que facilita la reutilización, el mantenimiento y la comprensión del código."
   ]
  },
  {
   "cell_type": "code",
   "execution_count": 16,
   "metadata": {},
   "outputs": [],
   "source": [
    "# Definición de la clase \"Persona\".\n",
    "class Persona:\n",
    "    # Constructor de clase\n",
    "    def __init__(self, nombre, edad):\n",
    "        self.nombre = nombre # Estos son los atributos.\n",
    "        self.edad = edad\n",
    "# Es útil recordar que self.\"atributo\" se iguala al argumento dentro del\n",
    "# constructor __init__ al que queremos referenciar. El nombre del atributo\n",
    "# no necesariamente tiene que tener el mismo nombre que el argumento.\n",
    "    \n",
    "    # Método de instancia para saludar.\n",
    "    def saludar(self):\n",
    "        print('Hola, mi nombre es {} y tengo {} anios'.format(self.nombre, self.edad))\n",
    "\n",
    "# Ya definida la clase, podemos usarla para crear las instancias u objetos.\n",
    "persona1 = Persona('Juan', 25)\n",
    "persona2 = Persona('Hector', 30)"
   ]
  },
  {
   "attachments": {},
   "cell_type": "markdown",
   "metadata": {},
   "source": [
    "El parámetro self en Python se utiliza dentro de una clase para hacer referencia a la instancia actual de la clase. Permite acceder a los atributos y métodos de la instancia desde dentro de la misma clase.\n",
    "\n",
    "En el script de ejemplo que proporcioné, el parámetro self se utiliza en varios lugares:\n",
    "\n",
    "* En el constructor _ _ init _ _(self, nombre, edad): El primer parámetro self es una convención en Python para referirse a la instancia actual de la clase. En este caso, self se utiliza para asignar los valores de nombre y edad a los atributos de la instancia actual.\n",
    "\n",
    "* En el método saludar(self): Nuevamente, el parámetro self se utiliza para hacer referencia a la instancia actual. Dentro del método, se puede acceder a los atributos de la instancia utilizando self.nombre y self.edad para imprimir el saludo personalizado.\n",
    "\n",
    "* Cuando se llama a un método de una instancia, Python automáticamente pasa la referencia de la instancia actual como el primer argumento (self). Esto permite acceder a los atributos y métodos de la instancia dentro del método.\n",
    "\n",
    "En resumen, self es una convención utilizada en Python para referirse a la instancia actual de una clase. Es necesario incluir self como primer parámetro en los métodos de instancia para acceder a los atributos y métodos de la instancia."
   ]
  },
  {
   "cell_type": "code",
   "execution_count": 17,
   "metadata": {},
   "outputs": [
    {
     "name": "stdout",
     "output_type": "stream",
     "text": [
      "Juan\n",
      "25\n",
      "Hola, mi nombre es Juan y tengo 25 anios\n"
     ]
    }
   ],
   "source": [
    "# Aquí accedemos al atributo .nombre y .edad del objeto persona1 \n",
    "# que previamente ya instanciamos, o que ya creamos como objeto nuevo.\n",
    "print(persona1.nombre)\n",
    "print(persona1.edad)\n",
    "\n",
    "# Aquí usamos el método .saludar() para el objeto persona1.\n",
    "persona1.saludar()"
   ]
  },
  {
   "cell_type": "code",
   "execution_count": 18,
   "metadata": {},
   "outputs": [
    {
     "name": "stdout",
     "output_type": "stream",
     "text": [
      "Hector\n",
      "30\n",
      "Hola, mi nombre es Hector y tengo 30 anios\n"
     ]
    }
   ],
   "source": [
    "# Podemos hacer lo mismo para el objeto persona2.\n",
    "print(persona2.nombre)\n",
    "print(persona2.edad)\n",
    "\n",
    "persona2.saludar()\n",
    "\n",
    "# La ventaja de trabajar con clases es que podemos crear varios objetos\n",
    "# con la misma plantilla, sin necesidad de crear una lista o un diccionario\n",
    "# para cada uno."
   ]
  }
 ],
 "metadata": {
  "kernelspec": {
   "display_name": "Python 3",
   "language": "python",
   "name": "python3"
  },
  "language_info": {
   "codemirror_mode": {
    "name": "ipython",
    "version": 3
   },
   "file_extension": ".py",
   "mimetype": "text/x-python",
   "name": "python",
   "nbconvert_exporter": "python",
   "pygments_lexer": "ipython3",
   "version": "3.11.1"
  },
  "orig_nbformat": 4
 },
 "nbformat": 4,
 "nbformat_minor": 2
}
