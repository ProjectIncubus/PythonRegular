{
 "cells": [
  {
   "attachments": {},
   "cell_type": "markdown",
   "metadata": {},
   "source": [
    "## Condicionales\n",
    "\n",
    "Nos sirven para ejecutar una parte del código si se cumple o no una condición establecida."
   ]
  },
  {
   "cell_type": "code",
   "execution_count": 1,
   "metadata": {},
   "outputs": [
    {
     "name": "stdout",
     "output_type": "stream",
     "text": [
      "Se ejecuta la condicion del if.\n"
     ]
    }
   ],
   "source": [
    "condicion = True # Crearemos esta variable booleana.\n",
    "\n",
    "if condicion: # No es necesario poner == True ya que el if asume que\n",
    "# esta condición tiene que ser True para entrar al if.\n",
    "    print('Se ejecuta la condicion del if.') # Aquí escribimos qué queremos\n",
    "    # que pase si la condición se cumple. Recordar que Python es sensible al\n",
    "    # identado.\n",
    "else:\n",
    "    print('No se ejecuta la condicion del if.') # Dentro del else va la parte\n",
    "    # del código que se ejecuta si NO se cumple la condición del if. No olvidar\n",
    "    # el identado."
   ]
  },
  {
   "cell_type": "code",
   "execution_count": 2,
   "metadata": {},
   "outputs": [
    {
     "name": "stdout",
     "output_type": "stream",
     "text": [
      "La variable vale 15.\n"
     ]
    }
   ],
   "source": [
    "otra_condicion = 15\n",
    "\n",
    "if otra_condicion == 15: # Aquí evaluaremos si la variable es igual a 15.\n",
    "    # Recordad que para realizar una evaluación ocupamos doble signo =. Un\n",
    "    # solo signo = es solo para asignar un valor a una variable.\n",
    "    print('La variable vale 15.') # Si la condición se cumple ejecuta esto.\n",
    "else:\n",
    "    print('La variable no vale 15.') # Si no, se ejecuta esto."
   ]
  },
  {
   "cell_type": "code",
   "execution_count": 3,
   "metadata": {},
   "outputs": [
    {
     "name": "stdout",
     "output_type": "stream",
     "text": [
      "1\n",
      "Aguila\n"
     ]
    }
   ],
   "source": [
    "# En este ejercicio simularemos el lanzamiento de una moneda al aire.\n",
    "# Para eso importaremos el módulo \"random\".\n",
    "import random\n",
    "\n",
    "num = random.randint(0, 1) # Aquí crearemos una variable que almacena un número\n",
    "# aleatorio, ya sea 0 o 1. Cada vez que corramos el código se generará un número\n",
    "# aleatorio diferente.\n",
    "print(num) # Aquí solo lo mostramos.\n",
    "\n",
    "if num > 0.5: # Si el numero es mayor que 0.5 (es decir, 1)...\n",
    "    print('Aguila') # ejecuta este código.\n",
    "else: # Si no... \n",
    "    print('Sol') # ejecuta este código."
   ]
  },
  {
   "cell_type": "code",
   "execution_count": 4,
   "metadata": {},
   "outputs": [
    {
     "ename": "ValueError",
     "evalue": "could not convert string to float: ''",
     "output_type": "error",
     "traceback": [
      "\u001b[1;31m---------------------------------------------------------------------------\u001b[0m",
      "\u001b[1;31mValueError\u001b[0m                                Traceback (most recent call last)",
      "Cell \u001b[1;32mIn[4], line 2\u001b[0m\n\u001b[0;32m      1\u001b[0m \u001b[39m# Otro ejemplo más. Aquí le pedimos al usuario ingresar una calificación.\u001b[39;00m\n\u001b[1;32m----> 2\u001b[0m calif \u001b[39m=\u001b[39m \u001b[39mfloat\u001b[39;49m(\u001b[39minput\u001b[39;49m(\u001b[39m'\u001b[39;49m\u001b[39mIngresa la calificacion:\u001b[39;49m\u001b[39m'\u001b[39;49m))\n\u001b[0;32m      4\u001b[0m \u001b[39mif\u001b[39;00m calif \u001b[39m>\u001b[39m\u001b[39m=\u001b[39m \u001b[39m70\u001b[39m: \u001b[39m# Si es mayor o igual a 70...\u001b[39;00m\n\u001b[0;32m      5\u001b[0m     \u001b[39mprint\u001b[39m(\u001b[39m'\u001b[39m\u001b[39mAprobatoria\u001b[39m\u001b[39m'\u001b[39m) \u001b[39m# imprimiremos \"Aprobatoria\".\u001b[39;00m\n",
      "\u001b[1;31mValueError\u001b[0m: could not convert string to float: ''"
     ]
    }
   ],
   "source": [
    "# Otro ejemplo más. Aquí le pedimos al usuario ingresar una calificación.\n",
    "calif = float(input('Ingresa la calificacion:'))\n",
    "\n",
    "if calif >= 70: # Si es mayor o igual a 70...\n",
    "    print('Aprobatoria') # imprimiremos \"Aprobatoria\".\n",
    "else: # Si no...\n",
    "    print('Reprobatoria') # imprimiremos \"Reprobatoria\"."
   ]
  },
  {
   "cell_type": "code",
   "execution_count": null,
   "metadata": {},
   "outputs": [
    {
     "name": "stdout",
     "output_type": "stream",
     "text": [
      "Error\n"
     ]
    }
   ],
   "source": [
    "# Hasta ahora hemos visto solo situaciones binarias, es decir, o pasa esto o\n",
    "# pasa esto otro.\n",
    "# Pero, ¿qué pasa si tenemos más situaciones que comprobar?\n",
    "# En este ejemplo el usuario debe ingresar un pH y debemos decirle si es\n",
    "# Base, Ácido, o Neutro.\n",
    "# Además, haremos que el código sea más robusto en caso de que el usuario\n",
    "# nos ingrese valores fuera del rango.\n",
    "\n",
    "ph = float(input('Ingresa valor de pH:'))\n",
    "\n",
    "if ph > 14: # Si el usuario da un pH mayor a 14...\n",
    "    print('Error') # Imprimimos \"Error\"\n",
    "elif ph < 0: # Si el usuario da un pH menor a 0...\n",
    "    print('Error') # Imprimimos \"Error\"\n",
    "elif ph > 7: # Si el usuario da un pH mayor a 7...\n",
    "    print('Base') # Imprimimos \"Base\"\n",
    "elif ph < 7: # Si el usuario da un pH menor a 7...\n",
    "    print('Acido') # Imprimimos \"Acido\"\n",
    "else: # Si nada de esto se cumple, la única opción que nos queda es que\n",
    "    # pH sea igual a 7.\n",
    "    print('Neutro') # En ese caso imprimimos \"Neutro\"\n",
    "\n",
    "# Hay que recalcar que el código sigue una secuencia línea por línea, por\n",
    "# lo cual es recomendable evaluar lo que nos dará error al inicio. Así, si\n",
    "# el usuario ingresa un número mayor a 7, el código comprobará primero si es\n",
    "# mayor a 14 para ver si no cae dentro del Error."
   ]
  },
  {
   "attachments": {},
   "cell_type": "markdown",
   "metadata": {},
   "source": [
    "## Ciclos\n",
    "### While\n",
    "El ciclo While realiza una secuencia de código mientras la condición a evaluar sea verdadera."
   ]
  },
  {
   "cell_type": "code",
   "execution_count": null,
   "metadata": {},
   "outputs": [
    {
     "name": "stdout",
     "output_type": "stream",
     "text": [
      "0\n",
      "1\n",
      "2\n",
      "3\n",
      "4\n",
      "5\n",
      "Termino el ciclo.\n"
     ]
    }
   ],
   "source": [
    "cond = 0 # Inicializamos una variable en 0.\n",
    "\n",
    "while cond <= 5: # Se leería algo así: \"MIENTRAS cond sea menor o igual a 5\n",
    "    # realiza la siguiente ejecución...\"\n",
    "    print(cond) # Si la condición se cumple, imprimiremos la variable cond.\n",
    "    cond += 1 # Ahora, es importante cambiar esa variable que controla el ciclo,\n",
    "    # si no lo hacemos el ciclo correrá infinitamente. Entonces al término de\n",
    "    # cada iteración incrementaremos la variable cond + 1.\n",
    "\n",
    "print('Termino el ciclo.') # Cuando la condición del ciclo ya no se cumpla, \n",
    "# nos saldremos del ciclo y seguiremos con el código que esté fuera del While."
   ]
  },
  {
   "cell_type": "code",
   "execution_count": null,
   "metadata": {},
   "outputs": [
    {
     "name": "stdout",
     "output_type": "stream",
     "text": [
      "0\n",
      "2\n",
      "4\n",
      "6\n",
      "8\n",
      "10\n",
      "La variable vale 10\n",
      "12\n",
      "14\n",
      "16\n",
      "18\n",
      "Termino el ciclo.\n"
     ]
    }
   ],
   "source": [
    "# Podemos hacer más cosas dentro del While.\n",
    "# En este código evaluaremos con un if si la variable cond ya llegó a 10,\n",
    "# y si ya llegó a 10 imprimiremos \"La variable vale 10\".\n",
    "cond = 0\n",
    "\n",
    "while cond < 20:\n",
    "    print(cond)\n",
    "    if cond == 10:\n",
    "        print('La variable vale 10')\n",
    "    cond += 2 # En este código estamos incrementando la variable cond + 2.\n",
    "\n",
    "print('Termino el ciclo.')"
   ]
  },
  {
   "cell_type": "code",
   "execution_count": null,
   "metadata": {},
   "outputs": [
    {
     "name": "stdout",
     "output_type": "stream",
     "text": [
      "0\n",
      "2\n",
      "4\n",
      "6\n",
      "8\n",
      "10\n",
      "La variable vale 10\n",
      "Termino el ciclo.\n"
     ]
    }
   ],
   "source": [
    "# Este es el mismo código que el anterior, solo que si la variable llega\n",
    "# a 10, nos saldremos del if y del while con el \"break\".\n",
    "cond = 0\n",
    "\n",
    "while cond < 20:\n",
    "    print(cond)\n",
    "    if cond == 10:\n",
    "        print('La variable vale 10')\n",
    "        break\n",
    "    cond += 2 # Equivalente al cond++\n",
    "\n",
    "print('Termino el ciclo.')"
   ]
  },
  {
   "cell_type": "code",
   "execution_count": null,
   "metadata": {},
   "outputs": [
    {
     "name": "stdout",
     "output_type": "stream",
     "text": [
      "PIN correcto.\n"
     ]
    }
   ],
   "source": [
    "# Este ejercicio le pide al usuario un PIN y mientras el PIN sea diferente de \n",
    "# 1234 (notar que es un entero), imprimiremos \"El pin es incorrecto\", y le\n",
    "# pediremos al usuario que ingrese el pin de nuevo.\n",
    "# Si el usuario ingresa el pin correcto, la condición del While no se cumplirá,\n",
    "# entonces saldremos del ciclo e imprimiremos \"Pin correcto\".\n",
    "\n",
    "pin = int(input('Ingresa el PIN'))\n",
    "\n",
    "while pin != 1234:\n",
    "    print('El pin es incorrecto.')\n",
    "    pin = input('Ingresa de nuevo el PIN:')\n",
    "\n",
    "print('PIN correcto.')"
   ]
  },
  {
   "attachments": {},
   "cell_type": "markdown",
   "metadata": {},
   "source": [
    "### For\n",
    "\n",
    "En Python, el ciclo \"for\" se utiliza para iterar sobre una secuencia de elementos, como una lista, tupla, cadena de texto o cualquier objeto iterable. Su sintaxis básica es la siguiente:"
   ]
  },
  {
   "cell_type": "code",
   "execution_count": null,
   "metadata": {},
   "outputs": [
    {
     "name": "stdout",
     "output_type": "stream",
     "text": [
      "10\n",
      "20\n",
      "30\n",
      "40\n",
      "50\n"
     ]
    }
   ],
   "source": [
    "m = [10, 20, 30, 40, 50] # Creamos una lista con elementos.\n",
    "\n",
    "for i in m: # \"i\" es una variable que toma el valor de cada elemento\n",
    "    # de la secuencia en cada iteración. \"m\" es la colección de elementos\n",
    "    # sobre la cual se realizará la iteración.\n",
    "    print(i) # Aquí imprimimos ese elemento en cada iteración.\n",
    "\n",
    "# Veremos, al correr el código, que lo que hacemos es imprimir cada\n",
    "# elemento de esta lista.\n",
    "\n",
    "# NOTA: no olvidar la sensibilidad de Python a la identación."
   ]
  },
  {
   "cell_type": "code",
   "execution_count": null,
   "metadata": {},
   "outputs": [
    {
     "name": "stdout",
     "output_type": "stream",
     "text": [
      "0\n",
      "1\n",
      "2\n",
      "3\n",
      "4\n"
     ]
    }
   ],
   "source": [
    "# El ciclo for tambien se puede combinar con la función \"range()\" para\n",
    "# generar una secuencia numérica que se utilizará en la iteración.\n",
    "\n",
    "for i in range(5):\n",
    "    print(i)\n",
    "\n",
    "# En este caso range(5) genera una secuencia de números del 0 al 4.\n",
    "# En cada iteración, la variable \"i\" toma el valor correspondiente y\n",
    "# se imprime."
   ]
  },
  {
   "cell_type": "code",
   "execution_count": null,
   "metadata": {},
   "outputs": [
    {
     "name": "stdout",
     "output_type": "stream",
     "text": [
      "3\n",
      "4\n",
      "5\n",
      "6\n",
      "7\n"
     ]
    }
   ],
   "source": [
    "# Aquí estamos crando una secuencia de iteración con range que va del\n",
    "# 3 al 7. Recordemos que el 8 es exclusivo, es decir, no se toma en cuenta.\n",
    "\n",
    "for i in range(3,8):\n",
    "    print(i)"
   ]
  },
  {
   "cell_type": "code",
   "execution_count": null,
   "metadata": {},
   "outputs": [
    {
     "name": "stdout",
     "output_type": "stream",
     "text": [
      "3\n",
      "5\n",
      "7\n",
      "9\n",
      "11\n",
      "13\n",
      "15\n",
      "17\n",
      "19\n"
     ]
    }
   ],
   "source": [
    "# Aquí usamos range para una secuencia del 3 al 19 con pasos de 2 en 2.\n",
    "\n",
    "for i in range(3,20,2):\n",
    "    print(i)"
   ]
  },
  {
   "cell_type": "code",
   "execution_count": null,
   "metadata": {},
   "outputs": [
    {
     "name": "stdout",
     "output_type": "stream",
     "text": [
      "[3, 4, 1, 7, 9, 10, 13, 12, 100, -80]\n",
      "[0, 0, 0, 0, 0, 0, 0, 0, 0, 0]\n",
      "['Acido', 'Acido', 'Acido', 'Neutro', 'Base', 'Base', 'Base', 'Base', 'Error', 'Error']\n"
     ]
    }
   ],
   "source": [
    "# Digamos que tenemos una lista con valores de pH, y queremos obtener otra\n",
    "# lista con valores que le correspondan de acuerdo a la evaluación que hicimos\n",
    "# previamente con el ejercicio del if.\n",
    "\n",
    "ph = [3, 4, 1, 7, 9, 10, 13, 12, 100, -80] # Lista con pH.\n",
    "categoria = [0] * len(ph) # Inicializamos una lista con puros 0s del mismo\n",
    "# tamaño que la lista \"pH\". En esta almacenaremos si es \"Base\", \"Acido\",\n",
    "# \"Neutro\", o \"Error\".\n",
    "\n",
    "# Aquí solo las mostramos.\n",
    "print(ph)\n",
    "print(categoria) # Comprobamos que la lista \"categoría\" está llena de ceros.\n",
    "# Esto es diferente a decir que está vacía, eh. Ojito.\n",
    "\n",
    "# Hacemos un for y realizamos la comparación.\n",
    "for i in range(len(ph)): # La variable \"i\" nos sirve como index para avanzar.\n",
    "    if ph[i] > 14: # Si el valor de mi lista \"ph\" en la posición \"i\" es mayor\n",
    "        # que 14...\n",
    "        categoria[i] = 'Error' # Pon en la posición \"i\" de mi lista \"categoría\"\n",
    "        # \"Error\".\n",
    "    elif ph[i] < 0: # Y así con cada condición...\n",
    "        categoria[i] = 'Error'\n",
    "    elif ph[i] > 7:\n",
    "        categoria[i] = 'Base'\n",
    "    elif ph[i] < 7:\n",
    "        categoria[i] = 'Acido'\n",
    "    else:\n",
    "        categoria[i] = 'Neutro'\n",
    "\n",
    "print(categoria) # Ahora imprimimos la lista \"categoría\" y veremos el resultado.\n"
   ]
  },
  {
   "cell_type": "code",
   "execution_count": null,
   "metadata": {},
   "outputs": [
    {
     "name": "stdout",
     "output_type": "stream",
     "text": [
      "[0, 0, 0, 0, 0]\n",
      "['50', '90', '60', '5', '40']\n"
     ]
    }
   ],
   "source": [
    "# Este es un ejemplo de cómo haríamos para llenar una lista de 5 elementos\n",
    "# primero inicializada en puros ceros, con valores ingresados por el usuario.\n",
    "lista = [0] * 5\n",
    "\n",
    "print(lista)\n",
    "\n",
    "for i in range(5):\n",
    "    lista[i] = input('Ingresa valor {}:'.format(i))\n",
    "\n",
    "print(lista)\n"
   ]
  },
  {
   "attachments": {},
   "cell_type": "markdown",
   "metadata": {},
   "source": [
    "### Ejercicio FizzBuzz\n",
    "\n",
    "Imprime numeros del 1 al 100 y...\n",
    "* si el número es multiplo de 3, imprime Fizz, \n",
    "* si es multiplo de 5 imprime Buzz, \n",
    "* y si es multiplo de 3 Y 5 imprime FizzBuzz."
   ]
  },
  {
   "cell_type": "code",
   "execution_count": null,
   "metadata": {},
   "outputs": [
    {
     "name": "stdout",
     "output_type": "stream",
     "text": [
      "1\n",
      "2\n",
      "Fizz\n",
      "4\n",
      "Buzz\n",
      "Fizz\n",
      "7\n",
      "8\n",
      "Fizz\n",
      "Buzz\n",
      "11\n",
      "Fizz\n",
      "13\n",
      "14\n",
      "FizzBuzz\n",
      "16\n",
      "17\n",
      "Fizz\n",
      "19\n",
      "Buzz\n",
      "Fizz\n",
      "22\n",
      "23\n",
      "Fizz\n",
      "Buzz\n",
      "26\n",
      "Fizz\n",
      "28\n",
      "29\n",
      "FizzBuzz\n",
      "31\n",
      "32\n",
      "Fizz\n",
      "34\n",
      "Buzz\n",
      "Fizz\n",
      "37\n",
      "38\n",
      "Fizz\n",
      "Buzz\n",
      "41\n",
      "Fizz\n",
      "43\n",
      "44\n",
      "FizzBuzz\n",
      "46\n",
      "47\n",
      "Fizz\n",
      "49\n",
      "Buzz\n",
      "Fizz\n",
      "52\n",
      "53\n",
      "Fizz\n",
      "Buzz\n",
      "56\n",
      "Fizz\n",
      "58\n",
      "59\n",
      "FizzBuzz\n",
      "61\n",
      "62\n",
      "Fizz\n",
      "64\n",
      "Buzz\n",
      "Fizz\n",
      "67\n",
      "68\n",
      "Fizz\n",
      "Buzz\n",
      "71\n",
      "Fizz\n",
      "73\n",
      "74\n",
      "FizzBuzz\n",
      "76\n",
      "77\n",
      "Fizz\n",
      "79\n",
      "Buzz\n",
      "Fizz\n",
      "82\n",
      "83\n",
      "Fizz\n",
      "Buzz\n",
      "86\n",
      "Fizz\n",
      "88\n",
      "89\n",
      "FizzBuzz\n",
      "91\n",
      "92\n",
      "Fizz\n",
      "94\n",
      "Buzz\n",
      "Fizz\n",
      "97\n",
      "98\n",
      "Fizz\n",
      "Buzz\n"
     ]
    }
   ],
   "source": [
    "for i in range(1,101):\n",
    "    if i % 3 == 0 and i % 5 == 0:\n",
    "        print('FizzBuzz')\n",
    "    elif i % 5 == 0:\n",
    "        print('Buzz')\n",
    "    elif i % 3 == 0:\n",
    "        print('Fizz')\n",
    "    else:\n",
    "        print(i)\n",
    "\n",
    "# NOTA: recordar que el código se ejecuta línea a línea, por ello es\n",
    "# importante evaluar la condición del FizzBuzz al principio."
   ]
  },
  {
   "attachments": {},
   "cell_type": "markdown",
   "metadata": {},
   "source": [
    "### Ejercicio de validacion de contraseña\n",
    "* Solicitarle al usuario una contraseña.\n",
    "* La contraseña debe tener al menos 8 caracteres\n",
    "* No debe exceder 20 caracteres\n",
    "* Verificar que los caracteres sean alfanumericos (hint: contraseña.isalnum())\n",
    "* Verificar que la contraseña tiene al menos un numero (hint: contraseña.isdigit())"
   ]
  }
 ],
 "metadata": {
  "kernelspec": {
   "display_name": "Python 3",
   "language": "python",
   "name": "python3"
  },
  "language_info": {
   "codemirror_mode": {
    "name": "ipython",
    "version": 3
   },
   "file_extension": ".py",
   "mimetype": "text/x-python",
   "name": "python",
   "nbconvert_exporter": "python",
   "pygments_lexer": "ipython3",
   "version": "3.11.1"
  },
  "orig_nbformat": 4
 },
 "nbformat": 4,
 "nbformat_minor": 2
}
