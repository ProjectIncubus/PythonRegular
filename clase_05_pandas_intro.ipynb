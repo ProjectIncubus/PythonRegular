{
 "cells": [
  {
   "cell_type": "code",
   "execution_count": 1,
   "metadata": {},
   "outputs": [],
   "source": [
    "import pandas as pd # Importamos pandas como pd\n",
    "import numpy as np # Importamos numpy como np"
   ]
  },
  {
   "cell_type": "code",
   "execution_count": 2,
   "metadata": {},
   "outputs": [],
   "source": [
    "# Asi podemos realizar la lectura de nuestros archivos.\n",
    "pokedf_xlsx = pd.read_excel('pokemon_data.xlsx') # Si el archivo no está en el mismo folder que\n",
    "# el script, tenemos que indicar el path completo.\n",
    "pokedf_txt = pd.read_csv('pokemon_data.txt', delimiter='\\t') # La lectura de archivos .txt se hace\n",
    "# como .csv pero indicamos que el delimitador es el tabulador.\n",
    "\n",
    "pokedf = pd.read_csv('pokemon_data.csv', index_col=0) # Trabajaremos con este archivo .csv\n",
    "# index_col=0 sirve para indicarle a Pandas que el archivo csv ya cuenta con una columna\n",
    "# de índices, y es la columna 0. Si no tuviera este argumento, Pandas crearía una columna\n",
    "# antes de esta con los índices."
   ]
  },
  {
   "cell_type": "code",
   "execution_count": 3,
   "metadata": {},
   "outputs": [
    {
     "data": {
      "text/html": [
       "<div>\n",
       "<style scoped>\n",
       "    .dataframe tbody tr th:only-of-type {\n",
       "        vertical-align: middle;\n",
       "    }\n",
       "\n",
       "    .dataframe tbody tr th {\n",
       "        vertical-align: top;\n",
       "    }\n",
       "\n",
       "    .dataframe thead th {\n",
       "        text-align: right;\n",
       "    }\n",
       "</style>\n",
       "<table border=\"1\" class=\"dataframe\">\n",
       "  <thead>\n",
       "    <tr style=\"text-align: right;\">\n",
       "      <th></th>\n",
       "      <th>Name</th>\n",
       "      <th>Type 1</th>\n",
       "      <th>Type 2</th>\n",
       "      <th>HP</th>\n",
       "      <th>Attack</th>\n",
       "      <th>Defense</th>\n",
       "      <th>Sp. Atk</th>\n",
       "      <th>Sp. Def</th>\n",
       "      <th>Speed</th>\n",
       "      <th>Generation</th>\n",
       "      <th>Legendary</th>\n",
       "    </tr>\n",
       "    <tr>\n",
       "      <th>#</th>\n",
       "      <th></th>\n",
       "      <th></th>\n",
       "      <th></th>\n",
       "      <th></th>\n",
       "      <th></th>\n",
       "      <th></th>\n",
       "      <th></th>\n",
       "      <th></th>\n",
       "      <th></th>\n",
       "      <th></th>\n",
       "      <th></th>\n",
       "    </tr>\n",
       "  </thead>\n",
       "  <tbody>\n",
       "    <tr>\n",
       "      <th>1</th>\n",
       "      <td>Bulbasaur</td>\n",
       "      <td>Grass</td>\n",
       "      <td>Poison</td>\n",
       "      <td>45</td>\n",
       "      <td>49</td>\n",
       "      <td>49</td>\n",
       "      <td>65</td>\n",
       "      <td>65</td>\n",
       "      <td>45</td>\n",
       "      <td>1</td>\n",
       "      <td>False</td>\n",
       "    </tr>\n",
       "    <tr>\n",
       "      <th>2</th>\n",
       "      <td>Ivysaur</td>\n",
       "      <td>Grass</td>\n",
       "      <td>Poison</td>\n",
       "      <td>60</td>\n",
       "      <td>62</td>\n",
       "      <td>63</td>\n",
       "      <td>80</td>\n",
       "      <td>80</td>\n",
       "      <td>60</td>\n",
       "      <td>1</td>\n",
       "      <td>False</td>\n",
       "    </tr>\n",
       "    <tr>\n",
       "      <th>3</th>\n",
       "      <td>Venusaur</td>\n",
       "      <td>Grass</td>\n",
       "      <td>Poison</td>\n",
       "      <td>80</td>\n",
       "      <td>82</td>\n",
       "      <td>83</td>\n",
       "      <td>100</td>\n",
       "      <td>100</td>\n",
       "      <td>80</td>\n",
       "      <td>1</td>\n",
       "      <td>False</td>\n",
       "    </tr>\n",
       "  </tbody>\n",
       "</table>\n",
       "</div>"
      ],
      "text/plain": [
       "        Name Type 1  Type 2  HP  Attack  Defense  Sp. Atk  Sp. Def  Speed   \n",
       "#                                                                           \n",
       "1  Bulbasaur  Grass  Poison  45      49       49       65       65     45  \\\n",
       "2    Ivysaur  Grass  Poison  60      62       63       80       80     60   \n",
       "3   Venusaur  Grass  Poison  80      82       83      100      100     80   \n",
       "\n",
       "   Generation  Legendary  \n",
       "#                         \n",
       "1           1      False  \n",
       "2           1      False  \n",
       "3           1      False  "
      ]
     },
     "execution_count": 3,
     "metadata": {},
     "output_type": "execute_result"
    }
   ],
   "source": [
    "# El método .head() nos muestra por default las primeras 5 filas de nuestro data frame.\n",
    "# Si ponemos un argumento, será el número de filas a mostrar, en este caso 3.\n",
    "pokedf.head(3)"
   ]
  },
  {
   "cell_type": "code",
   "execution_count": 4,
   "metadata": {},
   "outputs": [
    {
     "name": "stdout",
     "output_type": "stream",
     "text": [
      "Index(['Name', 'Type 1', 'Type 2', 'HP', 'Attack', 'Defense', 'Sp. Atk',\n",
      "       'Sp. Def', 'Speed', 'Generation', 'Legendary'],\n",
      "      dtype='object')\n",
      "['Name' 'Type 1' 'Type 2' 'HP' 'Attack' 'Defense' 'Sp. Atk' 'Sp. Def'\n",
      " 'Speed' 'Generation' 'Legendary']\n",
      "<class 'numpy.ndarray'>\n"
     ]
    }
   ],
   "source": [
    "# Veremos que Pandas nos da la oportunidad de acceder a las columnas y a los valores de las\n",
    "# columnas como si fueran los atributos del data frame.\n",
    "print(pokedf.columns)\n",
    "print(pokedf.columns.values)\n",
    "print(type(pokedf.columns.values)) # Aquí vemos que la \"lista\" con los nombres de las columnas\n",
    "# es más bien un array de numpy (que funciona muy parecido a una lista, con las ventajas de que\n",
    "# se puede trabajar con él como un vector).\n"
   ]
  },
  {
   "cell_type": "code",
   "execution_count": 5,
   "metadata": {},
   "outputs": [
    {
     "name": "stdout",
     "output_type": "stream",
     "text": [
      "                      Name   Type 1  Type 2  HP\n",
      "#                                              \n",
      "1                Bulbasaur    Grass  Poison  45\n",
      "2                  Ivysaur    Grass  Poison  60\n",
      "3                 Venusaur    Grass  Poison  80\n",
      "3    VenusaurMega Venusaur    Grass  Poison  80\n",
      "4               Charmander     Fire     NaN  39\n",
      "..                     ...      ...     ...  ..\n",
      "719                Diancie     Rock   Fairy  50\n",
      "719    DiancieMega Diancie     Rock   Fairy  50\n",
      "720    HoopaHoopa Confined  Psychic   Ghost  80\n",
      "720     HoopaHoopa Unbound  Psychic    Dark  80\n",
      "721              Volcanion     Fire   Water  80\n",
      "\n",
      "[800 rows x 4 columns]\n"
     ]
    }
   ],
   "source": [
    "columnas = pokedf.columns.values # Aquí creamos la variable columnas con este array de nombres de\n",
    "# las columnas.\n",
    "\n",
    "print(pokedf[columnas[0:4]]) # Aquí imprimimos el data frame indicando que solo queremos\n",
    "# de la columna 0 a la 3. Recordar que escribimos 4 porque Pandas trabaja con el 4 exclusivo.\n",
    "\n",
    "# ¿Te parece familiar? ¡Es porque usa el mismo modo de trabajo que un slicing o rebanado de\n",
    "# listas o strings! :D"
   ]
  },
  {
   "cell_type": "code",
   "execution_count": 6,
   "metadata": {},
   "outputs": [
    {
     "name": "stdout",
     "output_type": "stream",
     "text": [
      "                      Name   Type 1  Type 2  HP  Attack  Defense  Sp. Atk   \n",
      "#                                                                           \n",
      "1                Bulbasaur    Grass  Poison  45      49       49       65  \\\n",
      "2                  Ivysaur    Grass  Poison  60      62       63       80   \n",
      "3                 Venusaur    Grass  Poison  80      82       83      100   \n",
      "3    VenusaurMega Venusaur    Grass  Poison  80     100      123      122   \n",
      "4               Charmander     Fire     NaN  39      52       43       60   \n",
      "..                     ...      ...     ...  ..     ...      ...      ...   \n",
      "719                Diancie     Rock   Fairy  50     100      150      100   \n",
      "719    DiancieMega Diancie     Rock   Fairy  50     160      110      160   \n",
      "720    HoopaHoopa Confined  Psychic   Ghost  80     110       60      150   \n",
      "720     HoopaHoopa Unbound  Psychic    Dark  80     160       60      170   \n",
      "721              Volcanion     Fire   Water  80     110      120      130   \n",
      "\n",
      "     Sp. Def  Speed  Generation  Legendary  \n",
      "#                                           \n",
      "1         65     45           1      False  \n",
      "2         80     60           1      False  \n",
      "3        100     80           1      False  \n",
      "3        120     80           1      False  \n",
      "4         50     65           1      False  \n",
      "..       ...    ...         ...        ...  \n",
      "719      150     50           6       True  \n",
      "719      110    110           6       True  \n",
      "720      130     70           6       True  \n",
      "720      130     80           6       True  \n",
      "721       90     70           6       True  \n",
      "\n",
      "[800 rows x 11 columns]\n"
     ]
    }
   ],
   "source": [
    "print(pokedf[columnas]) # Si lo dejáramos así, indicamos que queremos todas las columnas."
   ]
  },
  {
   "cell_type": "code",
   "execution_count": 7,
   "metadata": {},
   "outputs": [
    {
     "name": "stdout",
     "output_type": "stream",
     "text": [
      "                      Name  Attack  Defense\n",
      "#                                          \n",
      "1                Bulbasaur      49       49\n",
      "2                  Ivysaur      62       63\n",
      "3                 Venusaur      82       83\n",
      "3    VenusaurMega Venusaur     100      123\n",
      "4               Charmander      52       43\n",
      "..                     ...     ...      ...\n",
      "719                Diancie     100      150\n",
      "719    DiancieMega Diancie     160      110\n",
      "720    HoopaHoopa Confined     110       60\n",
      "720     HoopaHoopa Unbound     160       60\n",
      "721              Volcanion     110      120\n",
      "\n",
      "[800 rows x 3 columns]\n",
      "<class 'pandas.core.frame.DataFrame'>\n"
     ]
    },
    {
     "data": {
      "text/html": [
       "<div>\n",
       "<style scoped>\n",
       "    .dataframe tbody tr th:only-of-type {\n",
       "        vertical-align: middle;\n",
       "    }\n",
       "\n",
       "    .dataframe tbody tr th {\n",
       "        vertical-align: top;\n",
       "    }\n",
       "\n",
       "    .dataframe thead th {\n",
       "        text-align: right;\n",
       "    }\n",
       "</style>\n",
       "<table border=\"1\" class=\"dataframe\">\n",
       "  <thead>\n",
       "    <tr style=\"text-align: right;\">\n",
       "      <th></th>\n",
       "      <th>HP</th>\n",
       "    </tr>\n",
       "    <tr>\n",
       "      <th>#</th>\n",
       "      <th></th>\n",
       "    </tr>\n",
       "  </thead>\n",
       "  <tbody>\n",
       "    <tr>\n",
       "      <th>1</th>\n",
       "      <td>45</td>\n",
       "    </tr>\n",
       "    <tr>\n",
       "      <th>2</th>\n",
       "      <td>60</td>\n",
       "    </tr>\n",
       "    <tr>\n",
       "      <th>3</th>\n",
       "      <td>80</td>\n",
       "    </tr>\n",
       "    <tr>\n",
       "      <th>3</th>\n",
       "      <td>80</td>\n",
       "    </tr>\n",
       "    <tr>\n",
       "      <th>4</th>\n",
       "      <td>39</td>\n",
       "    </tr>\n",
       "  </tbody>\n",
       "</table>\n",
       "</div>"
      ],
      "text/plain": [
       "   HP\n",
       "#    \n",
       "1  45\n",
       "2  60\n",
       "3  80\n",
       "3  80\n",
       "4  39"
      ]
     },
     "execution_count": 7,
     "metadata": {},
     "output_type": "execute_result"
    }
   ],
   "source": [
    "# También podemos acceder a una columna en específico por medio del nombre de dicha columna.\n",
    "# En este caso columnas.\n",
    "print(pokedf[['Name', 'Attack', 'Defense']])\n",
    "\n",
    "poke_hp = pokedf[['HP']] # Aquí creamos una variable que almacena solo la columna \"HP\"\n",
    "print(type(poke_hp)) # Si consultamos el tipo veremos que es aún un data frame de Pandas.\n",
    "\n",
    "poke_hp.head()"
   ]
  }
 ],
 "metadata": {
  "kernelspec": {
   "display_name": "Python 3",
   "language": "python",
   "name": "python3"
  },
  "language_info": {
   "codemirror_mode": {
    "name": "ipython",
    "version": 3
   },
   "file_extension": ".py",
   "mimetype": "text/x-python",
   "name": "python",
   "nbconvert_exporter": "python",
   "pygments_lexer": "ipython3",
   "version": "3.11.1"
  },
  "orig_nbformat": 4
 },
 "nbformat": 4,
 "nbformat_minor": 2
}
