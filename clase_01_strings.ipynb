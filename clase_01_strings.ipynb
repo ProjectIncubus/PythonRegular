{
 "cells": [
  {
   "attachments": {},
   "cell_type": "markdown",
   "metadata": {},
   "source": [
    "### Strings"
   ]
  },
  {
   "cell_type": "code",
   "execution_count": 1,
   "metadata": {},
   "outputs": [],
   "source": [
    "mi_string = 'Mi string'\n",
    "mi_otra_string = 'Mi otra string'"
   ]
  },
  {
   "cell_type": "code",
   "execution_count": 4,
   "metadata": {},
   "outputs": [
    {
     "name": "stdout",
     "output_type": "stream",
     "text": [
      "9\n",
      "14\n"
     ]
    }
   ],
   "source": [
    "print(len(mi_string))\n",
    "print(len(mi_otra_string))"
   ]
  },
  {
   "cell_type": "code",
   "execution_count": 6,
   "metadata": {},
   "outputs": [
    {
     "name": "stdout",
     "output_type": "stream",
     "text": [
      "Mi string Mi otra string\n"
     ]
    }
   ],
   "source": [
    "print(mi_string+' '+mi_otra_string)"
   ]
  },
  {
   "cell_type": "code",
   "execution_count": 7,
   "metadata": {},
   "outputs": [
    {
     "name": "stdout",
     "output_type": "stream",
     "text": [
      "Esta es una string\n",
      "con salto de linea\n"
     ]
    }
   ],
   "source": [
    "salto_linea = 'Esta es una string\\ncon salto de linea'\n",
    "print(salto_linea)"
   ]
  },
  {
   "cell_type": "code",
   "execution_count": 8,
   "metadata": {},
   "outputs": [
    {
     "name": "stdout",
     "output_type": "stream",
     "text": [
      "\tEsta es una string con tabulacion\n"
     ]
    }
   ],
   "source": [
    "tabulacion = '\\tEsta es una string con tabulacion'\n",
    "print(tabulacion)"
   ]
  },
  {
   "cell_type": "code",
   "execution_count": 13,
   "metadata": {},
   "outputs": [
    {
     "name": "stdout",
     "output_type": "stream",
     "text": [
      "Mi nombre es Gus Lopez y tengo 28 anios.\n",
      "Mi nombre es Gus Lopez y tengo 28 anios.\n",
      "Mi nombre es Gus Lopez y tengo 28 anios.\n"
     ]
    }
   ],
   "source": [
    "nombre, apellido, edad = 'Gus', 'Lopez', 28\n",
    "\n",
    "print('Mi nombre es {} {} y tengo {} anios.'.format(nombre, apellido, edad))\n",
    "print(f'Mi nombre es {nombre} {apellido} y tengo {edad} anios.')\n",
    "print('Mi nombre es %s %s y tengo %d anios.' %(nombre, apellido, edad))"
   ]
  },
  {
   "cell_type": "code",
   "execution_count": 15,
   "metadata": {},
   "outputs": [
    {
     "name": "stdout",
     "output_type": "stream",
     "text": [
      "6\n",
      "p\n",
      "y\n",
      "t\n"
     ]
    }
   ],
   "source": [
    "lenguaje = 'python'\n",
    "print(len(lenguaje))\n",
    "\n",
    "a, b, c, d, e, f = lenguaje\n",
    "\n",
    "print(a)\n",
    "print(b)\n",
    "print(c)"
   ]
  },
  {
   "cell_type": "code",
   "execution_count": 23,
   "metadata": {},
   "outputs": [
    {
     "name": "stdout",
     "output_type": "stream",
     "text": [
      "yt\n",
      "hon\n",
      "yhn\n",
      "noht\n"
     ]
    }
   ],
   "source": [
    "# String slicing (division o rebanado de strings)\n",
    "\n",
    "lenguaje = 'python'\n",
    "\n",
    "string_rebanada = lenguaje[1:3] # Zero-indexing, exclusiva o excluyente\n",
    "print(string_rebanada)\n",
    "\n",
    "string_rebanada = lenguaje[3:] \n",
    "print(string_rebanada)\n",
    "\n",
    "string_rebanada = lenguaje[1:6:2]\n",
    "print(string_rebanada)\n",
    "\n",
    "# Reversa\n",
    "\n",
    "reversa = lenguaje[5:1:-1]  # Desde el indice inicial, hasta el indice final, y el paso\n",
    "print(reversa)"
   ]
  }
 ],
 "metadata": {
  "kernelspec": {
   "display_name": "Python 3",
   "language": "python",
   "name": "python3"
  },
  "language_info": {
   "codemirror_mode": {
    "name": "ipython",
    "version": 3
   },
   "file_extension": ".py",
   "mimetype": "text/x-python",
   "name": "python",
   "nbconvert_exporter": "python",
   "pygments_lexer": "ipython3",
   "version": "3.11.1"
  },
  "orig_nbformat": 4
 },
 "nbformat": 4,
 "nbformat_minor": 2
}
