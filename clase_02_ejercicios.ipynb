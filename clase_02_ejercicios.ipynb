{
 "cells": [
  {
   "attachments": {},
   "cell_type": "markdown",
   "metadata": {},
   "source": [
    "### Ejercicio calculo de promedio.\n",
    "\n",
    "- Solicitar al usuario tres calificaciones\n",
    "- Realizar el promedio\n",
    "- Y redondea el promedio a dos decimales\n",
    "- Al final muestra al usuario (\"El promedio es: \", promedio)"
   ]
  },
  {
   "attachments": {},
   "cell_type": "markdown",
   "metadata": {},
   "source": [
    "### Ejercicio de conversion de temperatura\n",
    "\n",
    "- Solicitar al usuario que ingrese la temperatura en grados Celsius\n",
    "- Convertirla al Fahrenheit\n",
    "- Convertirla a Kelvin\n",
    "- Mostrarla al usuario"
   ]
  }
 ],
 "metadata": {
  "language_info": {
   "name": "python"
  },
  "orig_nbformat": 4
 },
 "nbformat": 4,
 "nbformat_minor": 2
}
