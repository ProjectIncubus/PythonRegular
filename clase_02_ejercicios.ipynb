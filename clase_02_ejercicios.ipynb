{
 "cells": [
  {
   "attachments": {},
   "cell_type": "markdown",
   "metadata": {},
   "source": [
    "### Ejercicio calculo de promedio.\n",
    "\n",
    "- Solicitar al usuario tres calificaciones\n",
    "- Realizar el promedio\n",
    "- Y redondea el promedio a dos decimales\n",
    "- Al final muestra al usuario (\"El promedio es: \", promedio)"
   ]
  },
  {
   "cell_type": "code",
   "execution_count": 3,
   "metadata": {},
   "outputs": [
    {
     "name": "stdout",
     "output_type": "stream",
     "text": [
      "El promedio es: 74.67\n"
     ]
    }
   ],
   "source": [
    "calif_1 = float(input('Ingresa la calificiacion 1:'))\n",
    "calif_2 = float(input('Ingresa la calificiacion 2:'))\n",
    "calif_3 = float(input('Ingresa la calificiacion 3:'))\n",
    "\n",
    "#print(type(calif_1))\n",
    "\n",
    "promedio = (calif_1 + calif_2 + calif_3) / 3\n",
    "\n",
    "promedio_redondeado = round(promedio, 2)\n",
    "\n",
    "print('El promedio es:', promedio_redondeado)\n",
    "\n",
    "#print('El promedio es: {}'.format(promedio_redondeado))"
   ]
  },
  {
   "attachments": {},
   "cell_type": "markdown",
   "metadata": {},
   "source": [
    "### Ejercicio de conversion de temperatura\n",
    "\n",
    "- Solicitar al usuario que ingrese la temperatura en grados Celsius\n",
    "- Convertirla al Fahrenheit\n",
    "- Convertirla a Kelvin\n",
    "- Mostrarla al usuario"
   ]
  },
  {
   "cell_type": "code",
   "execution_count": 4,
   "metadata": {},
   "outputs": [
    {
     "name": "stdout",
     "output_type": "stream",
     "text": [
      "La temperatura en Fahrenheit: 73.4\n",
      "La temperatura en Kelvin: 296.15\n"
     ]
    }
   ],
   "source": [
    "celsius = float(input('Ingresa una temperatura en grados Celsius:'))\n",
    "\n",
    "fahrenheit = (celsius * 9/5) + 32\n",
    "\n",
    "kelvin = celsius + 273.15\n",
    "\n",
    "print('La temperatura en Fahrenheit:', fahrenheit)\n",
    "print('La temperatura en Kelvin:', kelvin)"
   ]
  }
 ],
 "metadata": {
  "kernelspec": {
   "display_name": "Python 3",
   "language": "python",
   "name": "python3"
  },
  "language_info": {
   "codemirror_mode": {
    "name": "ipython",
    "version": 3
   },
   "file_extension": ".py",
   "mimetype": "text/x-python",
   "name": "python",
   "nbconvert_exporter": "python",
   "pygments_lexer": "ipython3",
   "version": "3.11.1"
  },
  "orig_nbformat": 4
 },
 "nbformat": 4,
 "nbformat_minor": 2
}
