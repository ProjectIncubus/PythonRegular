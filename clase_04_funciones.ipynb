{
 "cells": [
  {
   "attachments": {},
   "cell_type": "markdown",
   "metadata": {},
   "source": [
    "### Funciones\n",
    "\n",
    "En Python, una función es un bloque de código reutilizable que realiza una tarea específica. Las funciones se utilizan para dividir el código en piezas más pequeñas y manejables, lo que facilita la organización, la reutilización y el mantenimiento del código.\n",
    "\n",
    "Una función en Python se define utilizando la palabra clave def, seguida del nombre de la función y paréntesis que pueden contener los argumentos de la función. Los argumentos son los valores que la función puede recibir para realizar su tarea. Después de los paréntesis, se utiliza dos puntos para indicar el inicio del bloque de código de la función, que se define mediante sangría.\n",
    "\n",
    "Aquí tienes un ejemplo básico de cómo se define y utiliza una función en Python:"
   ]
  },
  {
   "cell_type": "code",
   "execution_count": 28,
   "metadata": {},
   "outputs": [],
   "source": [
    "def holamundo(): \n",
    "    print('Hola, mundo.') # Esta función nos imprimirá en pantalla \"Hola, mundo.\"\n",
    "                          # cada vez que la llamemos."
   ]
  },
  {
   "cell_type": "code",
   "execution_count": 29,
   "metadata": {},
   "outputs": [
    {
     "name": "stdout",
     "output_type": "stream",
     "text": [
      "Hola, mundo.\n",
      "Hola, mundo.\n",
      "Hola, mundo.\n"
     ]
    }
   ],
   "source": [
    "# Llamamos la función.\n",
    "holamundo()\n",
    "holamundo()\n",
    "holamundo()"
   ]
  },
  {
   "cell_type": "code",
   "execution_count": 30,
   "metadata": {},
   "outputs": [],
   "source": [
    "# Las funciones pueden tener o no argumentos, en este caso la función\n",
    "# promedio_tres_numeros exige 3 argumentos: a, b, y c.\n",
    "def promedio_de_tres(x, y, z):\n",
    "    promedio = (x + y + z) / 3 # Dentro de la función podemos decidir qué hacer\n",
    "                         # con esos argumentos.\n",
    "                         # Aqui los estamos usando para sumarlos y dividirlos\n",
    "                         # entre 3 y asignarlos a una variable llamada \"promedio\".\n",
    "    promedio_redondeado = round(promedio, 2)\n",
    "    print('El promedio de los tres numeros es:', promedio_redondeado)\n",
    "# La función imprimirá esta variable \"promedio_redondeado\" cada vez que\n",
    "# la mandemos llamar."
   ]
  },
  {
   "cell_type": "code",
   "execution_count": 31,
   "metadata": {},
   "outputs": [
    {
     "name": "stdout",
     "output_type": "stream",
     "text": [
      "El promedio de los tres numeros es: 4.67\n",
      "El promedio de los tres numeros es: 36.33\n"
     ]
    }
   ],
   "source": [
    "# Aquí llamaremos la función dos veces con diferentes argumentos.\n",
    "promedio_de_tres(2, 5, 7)\n",
    "promedio_de_tres(4, 5, 100)"
   ]
  },
  {
   "cell_type": "code",
   "execution_count": 32,
   "metadata": {},
   "outputs": [],
   "source": [
    "# ¿Qué pasa si en vez de solo imprimir en pantalla queremos que la función\n",
    "# nos devuelva un valor? Para eso usamos la palabra reservada \"return\".\n",
    "def promedio_de_tres_return(x, y, z):\n",
    "    promedio = (x + y + z) / 3\n",
    "    promedio_redondeado = round(promedio, 2)\n",
    "    return promedio_redondeado \n",
    "# Con return devolvemos el resultado, así lo podremos\n",
    "# usar para asignarlo a otra variable, o hacer lo que\n",
    "# necesitemos."
   ]
  },
  {
   "cell_type": "code",
   "execution_count": 33,
   "metadata": {},
   "outputs": [
    {
     "name": "stdout",
     "output_type": "stream",
     "text": [
      "4.67\n"
     ]
    }
   ],
   "source": [
    "x = promedio_de_tres_return(3, 4, 7)\n",
    "\n",
    "print(x)"
   ]
  },
  {
   "cell_type": "code",
   "execution_count": 34,
   "metadata": {},
   "outputs": [],
   "source": [
    "def sqrt(numero):\n",
    "    return numero ** (1/2)"
   ]
  },
  {
   "cell_type": "code",
   "execution_count": 35,
   "metadata": {},
   "outputs": [
    {
     "name": "stdout",
     "output_type": "stream",
     "text": [
      "5.0\n"
     ]
    }
   ],
   "source": [
    "x = sqrt(25)\n",
    "\n",
    "print(x)"
   ]
  },
  {
   "attachments": {},
   "cell_type": "markdown",
   "metadata": {},
   "source": [
    "### Ejercicios\n",
    "\n",
    "Escribe una función llamada \"calcular_area_circulo\" que tome el radio de un círculo como argumento y devuelva el área del círculo. Utiliza la fórmula A = π * r^2, donde A es el área y r es el radio.\n",
    "\n",
    "Instrucciones:\n",
    "\n",
    "1. Define una función llamada \"calcular_area_circulo\" que tome un parámetro \"radio\".\n",
    "2. Dentro de la función, calcula el área utilizando la fórmula A = π * r^2 y guárdala en una variable llamada \"area\".\n",
    "3. Devuelve el valor de \"area\" utilizando la palabra clave return.\n",
    "4. Fuera de la función, solicita al usuario que ingrese el radio del círculo.\n",
    "5. Convierte el valor ingresado a un número decimal utilizando la función float() y guárdalo en una variable llamada \"radio_circulo\".\n",
    "6. Llama a la función \"calcular_area_circulo\" pasando \"radio_circulo\" como argumento y guarda el resultado en una variable llamada \"resultado_area\".\n",
    "7. Imprime el resultado con un mensaje claro, por ejemplo: \"El área del círculo es: [resultado_area]\"."
   ]
  },
  {
   "cell_type": "code",
   "execution_count": 36,
   "metadata": {},
   "outputs": [],
   "source": [
    "def calcular_area_circulo(radio):\n",
    "    import math\n",
    "    area = math.pi * (radio ** 2)\n",
    "    return area"
   ]
  },
  {
   "cell_type": "code",
   "execution_count": 37,
   "metadata": {},
   "outputs": [
    {
     "name": "stdout",
     "output_type": "stream",
     "text": [
      "78.53981633974483\n"
     ]
    }
   ],
   "source": [
    "x = calcular_area_circulo(5)\n",
    "print(x)"
   ]
  },
  {
   "cell_type": "code",
   "execution_count": 38,
   "metadata": {},
   "outputs": [],
   "source": [
    "def cac(r):\n",
    "    PI = 3.14159\n",
    "    area = PI * (r ** 2)\n",
    "    return area"
   ]
  },
  {
   "cell_type": "code",
   "execution_count": 39,
   "metadata": {},
   "outputs": [
    {
     "name": "stdout",
     "output_type": "stream",
     "text": [
      "28.27431\n"
     ]
    }
   ],
   "source": [
    "y = cac(3)\n",
    "\n",
    "print(y)"
   ]
  },
  {
   "attachments": {},
   "cell_type": "markdown",
   "metadata": {},
   "source": [
    "### Ejercicio\n",
    "\n",
    "Escribe una función llamada \"encontrar_maximo_minimo\" que tome una lista de números como argumento y devuelva el valor máximo y mínimo de la lista.\n",
    "\n",
    "Instrucciones:\n",
    "\n",
    "1. Define una función llamada \"encontrar_maximo_minimo\" que tome un parámetro \"lista_numeros\".\n",
    "2. Inicializa dos variables, \"maximo\" y \"minimo\", con los valores del primer elemento de \"lista_numeros\".\n",
    "3. Recorre cada número en \"lista_numeros\" utilizando un bucle \"for\".\n",
    "4. Dentro del bucle, verifica si el número actual es mayor que el valor almacenado en \"maximo\". Si es así, actualiza el valor de \"maximo\".\n",
    "5. De manera similar, verifica si el número actual es menor que el valor almacenado en \"minimo\". Si es así, actualiza el valor de \"minimo\".\n",
    "6. Al final del bucle, devuelve los valores de \"maximo\" y \"minimo\" utilizando la palabra clave \"return\" en una tupla.\n",
    "7. Fuera de la función, crea una lista de números y asígnala a una variable llamada \"numeros\".\n",
    "8. Llama a la función \"encontrar_maximo_minimo\" pasando la lista de números como argumento y guarda el resultado en una variable llamada \"resultado\".\n",
    "9. Imprime los resultados con mensajes claros, por ejemplo: \"El valor máximo es: [resultado_maximo]\" y \"El valor mínimo es: [resultado_minimo]\"."
   ]
  },
  {
   "cell_type": "code",
   "execution_count": 40,
   "metadata": {},
   "outputs": [],
   "source": [
    "def encontrar_minimo_maximo(lista_numeros):\n",
    "    maximo = lista_numeros[0]\n",
    "    minimo = lista_numeros[0]\n",
    "\n",
    "    for numero in lista_numeros:\n",
    "        if numero > maximo:\n",
    "            maximo = numero\n",
    "        if numero < minimo:\n",
    "            minimo = numero\n",
    "\n",
    "    return (minimo, maximo)"
   ]
  },
  {
   "cell_type": "code",
   "execution_count": 41,
   "metadata": {},
   "outputs": [
    {
     "name": "stdout",
     "output_type": "stream",
     "text": [
      "(-50, 100)\n"
     ]
    }
   ],
   "source": [
    "lista = [0, 1, 2, 3, 100, -50]\n",
    "\n",
    "resultado = encontrar_minimo_maximo(lista)\n",
    "\n",
    "print(resultado)"
   ]
  },
  {
   "cell_type": "code",
   "execution_count": 42,
   "metadata": {},
   "outputs": [],
   "source": [
    "def encontrar_min_max(lista_de_numeros):\n",
    "    minimo = min(lista_de_numeros)\n",
    "    maximo = max(lista_de_numeros)\n",
    "    return (minimo, maximo)"
   ]
  },
  {
   "cell_type": "code",
   "execution_count": 43,
   "metadata": {},
   "outputs": [
    {
     "name": "stdout",
     "output_type": "stream",
     "text": [
      "(-1000, 100)\n"
     ]
    }
   ],
   "source": [
    "serie_numeros = [0, -1000, 2, 3, 100, -50]\n",
    "\n",
    "resultado = encontrar_min_max(serie_numeros)\n",
    "\n",
    "print(resultado)"
   ]
  }
 ],
 "metadata": {
  "kernelspec": {
   "display_name": "Python 3",
   "language": "python",
   "name": "python3"
  },
  "language_info": {
   "codemirror_mode": {
    "name": "ipython",
    "version": 3
   },
   "file_extension": ".py",
   "mimetype": "text/x-python",
   "name": "python",
   "nbconvert_exporter": "python",
   "pygments_lexer": "ipython3",
   "version": "3.11.1"
  },
  "orig_nbformat": 4
 },
 "nbformat": 4,
 "nbformat_minor": 2
}
